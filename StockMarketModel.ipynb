{
 "cells": [
  {
   "cell_type": "code",
   "execution_count": 3,
   "id": "96a39f9c-4fcd-432b-aaeb-4339adf7e96d",
   "metadata": {},
   "outputs": [
    {
     "name": "stdout",
     "output_type": "stream",
     "text": [
      "Requirement already satisfied: numpy in c:\\users\\91700\\anaconda3\\lib\\site-packages (2.3.1)\n",
      "Note: you may need to restart the kernel to use updated packages.\n"
     ]
    }
   ],
   "source": [
    "pip install --upgrade numpy"
   ]
  },
  {
   "cell_type": "code",
   "execution_count": 1,
   "id": "705457f1-ef64-4491-8ded-4e1f5a7a995f",
   "metadata": {},
   "outputs": [
    {
     "name": "stderr",
     "output_type": "stream",
     "text": [
      "\n",
      "A module that was compiled using NumPy 1.x cannot be run in\n",
      "NumPy 2.3.1 as it may crash. To support both 1.x and 2.x\n",
      "versions of NumPy, modules must be compiled with NumPy 2.0.\n",
      "Some module may need to rebuild instead e.g. with 'pybind11>=2.12'.\n",
      "\n",
      "If you are a user of the module, the easiest solution will be to\n",
      "downgrade to 'numpy<2' or try to upgrade the affected module.\n",
      "We expect that some modules will need time to support NumPy 2.\n",
      "\n",
      "Traceback (most recent call last):  File \"C:\\Users\\91700\\anaconda3\\Lib\\runpy.py\", line 198, in _run_module_as_main\n",
      "    return _run_code(code, main_globals, None,\n",
      "  File \"C:\\Users\\91700\\anaconda3\\Lib\\runpy.py\", line 88, in _run_code\n",
      "    exec(code, run_globals)\n",
      "  File \"C:\\Users\\91700\\anaconda3\\Lib\\site-packages\\ipykernel_launcher.py\", line 18, in <module>\n",
      "    app.launch_new_instance()\n",
      "  File \"C:\\Users\\91700\\anaconda3\\Lib\\site-packages\\traitlets\\config\\application.py\", line 1075, in launch_instance\n",
      "    app.start()\n",
      "  File \"C:\\Users\\91700\\anaconda3\\Lib\\site-packages\\ipykernel\\kernelapp.py\", line 739, in start\n",
      "    self.io_loop.start()\n",
      "  File \"C:\\Users\\91700\\anaconda3\\Lib\\site-packages\\tornado\\platform\\asyncio.py\", line 205, in start\n",
      "    self.asyncio_loop.run_forever()\n",
      "  File \"C:\\Users\\91700\\anaconda3\\Lib\\asyncio\\base_events.py\", line 641, in run_forever\n",
      "    self._run_once()\n",
      "  File \"C:\\Users\\91700\\anaconda3\\Lib\\asyncio\\base_events.py\", line 1987, in _run_once\n",
      "    handle._run()\n",
      "  File \"C:\\Users\\91700\\anaconda3\\Lib\\asyncio\\events.py\", line 88, in _run\n",
      "    self._context.run(self._callback, *self._args)\n",
      "  File \"C:\\Users\\91700\\anaconda3\\Lib\\site-packages\\ipykernel\\kernelbase.py\", line 545, in dispatch_queue\n",
      "    await self.process_one()\n",
      "  File \"C:\\Users\\91700\\anaconda3\\Lib\\site-packages\\ipykernel\\kernelbase.py\", line 534, in process_one\n",
      "    await dispatch(*args)\n",
      "  File \"C:\\Users\\91700\\anaconda3\\Lib\\site-packages\\ipykernel\\kernelbase.py\", line 437, in dispatch_shell\n",
      "    await result\n",
      "  File \"C:\\Users\\91700\\anaconda3\\Lib\\site-packages\\ipykernel\\ipkernel.py\", line 362, in execute_request\n",
      "    await super().execute_request(stream, ident, parent)\n",
      "  File \"C:\\Users\\91700\\anaconda3\\Lib\\site-packages\\ipykernel\\kernelbase.py\", line 778, in execute_request\n",
      "    reply_content = await reply_content\n",
      "  File \"C:\\Users\\91700\\anaconda3\\Lib\\site-packages\\ipykernel\\ipkernel.py\", line 449, in do_execute\n",
      "    res = shell.run_cell(\n",
      "  File \"C:\\Users\\91700\\anaconda3\\Lib\\site-packages\\ipykernel\\zmqshell.py\", line 549, in run_cell\n",
      "    return super().run_cell(*args, **kwargs)\n",
      "  File \"C:\\Users\\91700\\anaconda3\\Lib\\site-packages\\IPython\\core\\interactiveshell.py\", line 3075, in run_cell\n",
      "    result = self._run_cell(\n",
      "  File \"C:\\Users\\91700\\anaconda3\\Lib\\site-packages\\IPython\\core\\interactiveshell.py\", line 3130, in _run_cell\n",
      "    result = runner(coro)\n",
      "  File \"C:\\Users\\91700\\anaconda3\\Lib\\site-packages\\IPython\\core\\async_helpers.py\", line 128, in _pseudo_sync_runner\n",
      "    coro.send(None)\n",
      "  File \"C:\\Users\\91700\\anaconda3\\Lib\\site-packages\\IPython\\core\\interactiveshell.py\", line 3334, in run_cell_async\n",
      "    has_raised = await self.run_ast_nodes(code_ast.body, cell_name,\n",
      "  File \"C:\\Users\\91700\\anaconda3\\Lib\\site-packages\\IPython\\core\\interactiveshell.py\", line 3517, in run_ast_nodes\n",
      "    if await self.run_code(code, result, async_=asy):\n",
      "  File \"C:\\Users\\91700\\anaconda3\\Lib\\site-packages\\IPython\\core\\interactiveshell.py\", line 3577, in run_code\n",
      "    exec(code_obj, self.user_global_ns, self.user_ns)\n",
      "  File \"C:\\Users\\91700\\AppData\\Local\\Temp\\ipykernel_16556\\4039785904.py\", line 1, in <module>\n",
      "    import yfinance as yf\n",
      "  File \"C:\\Users\\91700\\anaconda3\\Lib\\site-packages\\yfinance\\__init__.py\", line 23, in <module>\n",
      "    from .search import Search\n",
      "  File \"C:\\Users\\91700\\anaconda3\\Lib\\site-packages\\yfinance\\search.py\", line 25, in <module>\n",
      "    from . import utils\n",
      "  File \"C:\\Users\\91700\\anaconda3\\Lib\\site-packages\\yfinance\\utils.py\", line 36, in <module>\n",
      "    import pandas as _pd\n",
      "  File \"C:\\Users\\91700\\anaconda3\\Lib\\site-packages\\pandas\\__init__.py\", line 26, in <module>\n",
      "    from pandas.compat import (\n",
      "  File \"C:\\Users\\91700\\anaconda3\\Lib\\site-packages\\pandas\\compat\\__init__.py\", line 27, in <module>\n",
      "    from pandas.compat.pyarrow import (\n",
      "  File \"C:\\Users\\91700\\anaconda3\\Lib\\site-packages\\pandas\\compat\\pyarrow.py\", line 8, in <module>\n",
      "    import pyarrow as pa\n",
      "  File \"C:\\Users\\91700\\anaconda3\\Lib\\site-packages\\pyarrow\\__init__.py\", line 65, in <module>\n",
      "    import pyarrow.lib as _lib\n"
     ]
    },
    {
     "ename": "ImportError",
     "evalue": "\nA module that was compiled using NumPy 1.x cannot be run in\nNumPy 2.3.1 as it may crash. To support both 1.x and 2.x\nversions of NumPy, modules must be compiled with NumPy 2.0.\nSome module may need to rebuild instead e.g. with 'pybind11>=2.12'.\n\nIf you are a user of the module, the easiest solution will be to\ndowngrade to 'numpy<2' or try to upgrade the affected module.\nWe expect that some modules will need time to support NumPy 2.\n\n",
     "output_type": "error",
     "traceback": [
      "\u001b[1;31m---------------------------------------------------------------------------\u001b[0m",
      "\u001b[1;31mImportError\u001b[0m                               Traceback (most recent call last)",
      "File \u001b[1;32m~\\anaconda3\\Lib\\site-packages\\numpy\\core\\_multiarray_umath.py:46\u001b[0m, in \u001b[0;36m__getattr__\u001b[1;34m(attr_name)\u001b[0m\n\u001b[0;32m     41\u001b[0m     \u001b[38;5;66;03m# Also print the message (with traceback).  This is because old versions\u001b[39;00m\n\u001b[0;32m     42\u001b[0m     \u001b[38;5;66;03m# of NumPy unfortunately set up the import to replace (and hide) the\u001b[39;00m\n\u001b[0;32m     43\u001b[0m     \u001b[38;5;66;03m# error.  The traceback shouldn't be needed, but e.g. pytest plugins\u001b[39;00m\n\u001b[0;32m     44\u001b[0m     \u001b[38;5;66;03m# seem to swallow it and we should be failing anyway...\u001b[39;00m\n\u001b[0;32m     45\u001b[0m     sys\u001b[38;5;241m.\u001b[39mstderr\u001b[38;5;241m.\u001b[39mwrite(msg \u001b[38;5;241m+\u001b[39m tb_msg)\n\u001b[1;32m---> 46\u001b[0m     \u001b[38;5;28;01mraise\u001b[39;00m \u001b[38;5;167;01mImportError\u001b[39;00m(msg)\n\u001b[0;32m     48\u001b[0m ret \u001b[38;5;241m=\u001b[39m \u001b[38;5;28mgetattr\u001b[39m(_multiarray_umath, attr_name, \u001b[38;5;28;01mNone\u001b[39;00m)\n\u001b[0;32m     49\u001b[0m \u001b[38;5;28;01mif\u001b[39;00m ret \u001b[38;5;129;01mis\u001b[39;00m \u001b[38;5;28;01mNone\u001b[39;00m:\n",
      "\u001b[1;31mImportError\u001b[0m: \nA module that was compiled using NumPy 1.x cannot be run in\nNumPy 2.3.1 as it may crash. To support both 1.x and 2.x\nversions of NumPy, modules must be compiled with NumPy 2.0.\nSome module may need to rebuild instead e.g. with 'pybind11>=2.12'.\n\nIf you are a user of the module, the easiest solution will be to\ndowngrade to 'numpy<2' or try to upgrade the affected module.\nWe expect that some modules will need time to support NumPy 2.\n\n"
     ]
    },
    {
     "name": "stderr",
     "output_type": "stream",
     "text": [
      "\n",
      "A module that was compiled using NumPy 1.x cannot be run in\n",
      "NumPy 2.3.1 as it may crash. To support both 1.x and 2.x\n",
      "versions of NumPy, modules must be compiled with NumPy 2.0.\n",
      "Some module may need to rebuild instead e.g. with 'pybind11>=2.12'.\n",
      "\n",
      "If you are a user of the module, the easiest solution will be to\n",
      "downgrade to 'numpy<2' or try to upgrade the affected module.\n",
      "We expect that some modules will need time to support NumPy 2.\n",
      "\n",
      "Traceback (most recent call last):  File \"C:\\Users\\91700\\anaconda3\\Lib\\runpy.py\", line 198, in _run_module_as_main\n",
      "    return _run_code(code, main_globals, None,\n",
      "  File \"C:\\Users\\91700\\anaconda3\\Lib\\runpy.py\", line 88, in _run_code\n",
      "    exec(code, run_globals)\n",
      "  File \"C:\\Users\\91700\\anaconda3\\Lib\\site-packages\\ipykernel_launcher.py\", line 18, in <module>\n",
      "    app.launch_new_instance()\n",
      "  File \"C:\\Users\\91700\\anaconda3\\Lib\\site-packages\\traitlets\\config\\application.py\", line 1075, in launch_instance\n",
      "    app.start()\n",
      "  File \"C:\\Users\\91700\\anaconda3\\Lib\\site-packages\\ipykernel\\kernelapp.py\", line 739, in start\n",
      "    self.io_loop.start()\n",
      "  File \"C:\\Users\\91700\\anaconda3\\Lib\\site-packages\\tornado\\platform\\asyncio.py\", line 205, in start\n",
      "    self.asyncio_loop.run_forever()\n",
      "  File \"C:\\Users\\91700\\anaconda3\\Lib\\asyncio\\base_events.py\", line 641, in run_forever\n",
      "    self._run_once()\n",
      "  File \"C:\\Users\\91700\\anaconda3\\Lib\\asyncio\\base_events.py\", line 1987, in _run_once\n",
      "    handle._run()\n",
      "  File \"C:\\Users\\91700\\anaconda3\\Lib\\asyncio\\events.py\", line 88, in _run\n",
      "    self._context.run(self._callback, *self._args)\n",
      "  File \"C:\\Users\\91700\\anaconda3\\Lib\\site-packages\\ipykernel\\kernelbase.py\", line 545, in dispatch_queue\n",
      "    await self.process_one()\n",
      "  File \"C:\\Users\\91700\\anaconda3\\Lib\\site-packages\\ipykernel\\kernelbase.py\", line 534, in process_one\n",
      "    await dispatch(*args)\n",
      "  File \"C:\\Users\\91700\\anaconda3\\Lib\\site-packages\\ipykernel\\kernelbase.py\", line 437, in dispatch_shell\n",
      "    await result\n",
      "  File \"C:\\Users\\91700\\anaconda3\\Lib\\site-packages\\ipykernel\\ipkernel.py\", line 362, in execute_request\n",
      "    await super().execute_request(stream, ident, parent)\n",
      "  File \"C:\\Users\\91700\\anaconda3\\Lib\\site-packages\\ipykernel\\kernelbase.py\", line 778, in execute_request\n",
      "    reply_content = await reply_content\n",
      "  File \"C:\\Users\\91700\\anaconda3\\Lib\\site-packages\\ipykernel\\ipkernel.py\", line 449, in do_execute\n",
      "    res = shell.run_cell(\n",
      "  File \"C:\\Users\\91700\\anaconda3\\Lib\\site-packages\\ipykernel\\zmqshell.py\", line 549, in run_cell\n",
      "    return super().run_cell(*args, **kwargs)\n",
      "  File \"C:\\Users\\91700\\anaconda3\\Lib\\site-packages\\IPython\\core\\interactiveshell.py\", line 3075, in run_cell\n",
      "    result = self._run_cell(\n",
      "  File \"C:\\Users\\91700\\anaconda3\\Lib\\site-packages\\IPython\\core\\interactiveshell.py\", line 3130, in _run_cell\n",
      "    result = runner(coro)\n",
      "  File \"C:\\Users\\91700\\anaconda3\\Lib\\site-packages\\IPython\\core\\async_helpers.py\", line 128, in _pseudo_sync_runner\n",
      "    coro.send(None)\n",
      "  File \"C:\\Users\\91700\\anaconda3\\Lib\\site-packages\\IPython\\core\\interactiveshell.py\", line 3334, in run_cell_async\n",
      "    has_raised = await self.run_ast_nodes(code_ast.body, cell_name,\n",
      "  File \"C:\\Users\\91700\\anaconda3\\Lib\\site-packages\\IPython\\core\\interactiveshell.py\", line 3517, in run_ast_nodes\n",
      "    if await self.run_code(code, result, async_=asy):\n",
      "  File \"C:\\Users\\91700\\anaconda3\\Lib\\site-packages\\IPython\\core\\interactiveshell.py\", line 3577, in run_code\n",
      "    exec(code_obj, self.user_global_ns, self.user_ns)\n",
      "  File \"C:\\Users\\91700\\AppData\\Local\\Temp\\ipykernel_16556\\4039785904.py\", line 1, in <module>\n",
      "    import yfinance as yf\n",
      "  File \"C:\\Users\\91700\\anaconda3\\Lib\\site-packages\\yfinance\\__init__.py\", line 23, in <module>\n",
      "    from .search import Search\n",
      "  File \"C:\\Users\\91700\\anaconda3\\Lib\\site-packages\\yfinance\\search.py\", line 25, in <module>\n",
      "    from . import utils\n",
      "  File \"C:\\Users\\91700\\anaconda3\\Lib\\site-packages\\yfinance\\utils.py\", line 36, in <module>\n",
      "    import pandas as _pd\n",
      "  File \"C:\\Users\\91700\\anaconda3\\Lib\\site-packages\\pandas\\__init__.py\", line 49, in <module>\n",
      "    from pandas.core.api import (\n",
      "  File \"C:\\Users\\91700\\anaconda3\\Lib\\site-packages\\pandas\\core\\api.py\", line 1, in <module>\n",
      "    from pandas._libs import (\n",
      "  File \"C:\\Users\\91700\\anaconda3\\Lib\\site-packages\\pandas\\_libs\\__init__.py\", line 17, in <module>\n",
      "    import pandas._libs.pandas_datetime  # noqa: F401 # isort: skip # type: ignore[reportUnusedImport]\n"
     ]
    },
    {
     "ename": "ImportError",
     "evalue": "\nA module that was compiled using NumPy 1.x cannot be run in\nNumPy 2.3.1 as it may crash. To support both 1.x and 2.x\nversions of NumPy, modules must be compiled with NumPy 2.0.\nSome module may need to rebuild instead e.g. with 'pybind11>=2.12'.\n\nIf you are a user of the module, the easiest solution will be to\ndowngrade to 'numpy<2' or try to upgrade the affected module.\nWe expect that some modules will need time to support NumPy 2.\n\n",
     "output_type": "error",
     "traceback": [
      "\u001b[1;31m---------------------------------------------------------------------------\u001b[0m",
      "\u001b[1;31mImportError\u001b[0m                               Traceback (most recent call last)",
      "File \u001b[1;32m~\\anaconda3\\Lib\\site-packages\\numpy\\core\\_multiarray_umath.py:46\u001b[0m, in \u001b[0;36m__getattr__\u001b[1;34m(attr_name)\u001b[0m\n\u001b[0;32m     41\u001b[0m     \u001b[38;5;66;03m# Also print the message (with traceback).  This is because old versions\u001b[39;00m\n\u001b[0;32m     42\u001b[0m     \u001b[38;5;66;03m# of NumPy unfortunately set up the import to replace (and hide) the\u001b[39;00m\n\u001b[0;32m     43\u001b[0m     \u001b[38;5;66;03m# error.  The traceback shouldn't be needed, but e.g. pytest plugins\u001b[39;00m\n\u001b[0;32m     44\u001b[0m     \u001b[38;5;66;03m# seem to swallow it and we should be failing anyway...\u001b[39;00m\n\u001b[0;32m     45\u001b[0m     sys\u001b[38;5;241m.\u001b[39mstderr\u001b[38;5;241m.\u001b[39mwrite(msg \u001b[38;5;241m+\u001b[39m tb_msg)\n\u001b[1;32m---> 46\u001b[0m     \u001b[38;5;28;01mraise\u001b[39;00m \u001b[38;5;167;01mImportError\u001b[39;00m(msg)\n\u001b[0;32m     48\u001b[0m ret \u001b[38;5;241m=\u001b[39m \u001b[38;5;28mgetattr\u001b[39m(_multiarray_umath, attr_name, \u001b[38;5;28;01mNone\u001b[39;00m)\n\u001b[0;32m     49\u001b[0m \u001b[38;5;28;01mif\u001b[39;00m ret \u001b[38;5;129;01mis\u001b[39;00m \u001b[38;5;28;01mNone\u001b[39;00m:\n",
      "\u001b[1;31mImportError\u001b[0m: \nA module that was compiled using NumPy 1.x cannot be run in\nNumPy 2.3.1 as it may crash. To support both 1.x and 2.x\nversions of NumPy, modules must be compiled with NumPy 2.0.\nSome module may need to rebuild instead e.g. with 'pybind11>=2.12'.\n\nIf you are a user of the module, the easiest solution will be to\ndowngrade to 'numpy<2' or try to upgrade the affected module.\nWe expect that some modules will need time to support NumPy 2.\n\n"
     ]
    },
    {
     "ename": "ImportError",
     "evalue": "numpy.core.multiarray failed to import",
     "output_type": "error",
     "traceback": [
      "\u001b[1;31m---------------------------------------------------------------------------\u001b[0m",
      "\u001b[1;31mImportError\u001b[0m                               Traceback (most recent call last)",
      "Cell \u001b[1;32mIn[1], line 1\u001b[0m\n\u001b[1;32m----> 1\u001b[0m \u001b[38;5;28;01mimport\u001b[39;00m \u001b[38;5;21;01myfinance\u001b[39;00m \u001b[38;5;28;01mas\u001b[39;00m \u001b[38;5;21;01myf\u001b[39;00m\n\u001b[0;32m      2\u001b[0m \u001b[38;5;28;01mimport\u001b[39;00m \u001b[38;5;21;01mpandas\u001b[39;00m \u001b[38;5;28;01mas\u001b[39;00m \u001b[38;5;21;01mpd\u001b[39;00m\n\u001b[0;32m      3\u001b[0m \u001b[38;5;28;01mimport\u001b[39;00m \u001b[38;5;21;01mnumpy\u001b[39;00m \u001b[38;5;28;01mas\u001b[39;00m \u001b[38;5;21;01mnp\u001b[39;00m\n",
      "File \u001b[1;32m~\\anaconda3\\Lib\\site-packages\\yfinance\\__init__.py:23\u001b[0m\n\u001b[0;32m      1\u001b[0m \u001b[38;5;66;03m#!/usr/bin/env python\u001b[39;00m\n\u001b[0;32m      2\u001b[0m \u001b[38;5;66;03m# -*- coding: utf-8 -*-\u001b[39;00m\n\u001b[0;32m      3\u001b[0m \u001b[38;5;66;03m#\u001b[39;00m\n\u001b[1;32m   (...)\u001b[0m\n\u001b[0;32m     19\u001b[0m \u001b[38;5;66;03m# limitations under the License.\u001b[39;00m\n\u001b[0;32m     20\u001b[0m \u001b[38;5;66;03m#\u001b[39;00m\n\u001b[0;32m     22\u001b[0m \u001b[38;5;28;01mfrom\u001b[39;00m \u001b[38;5;21;01m.\u001b[39;00m \u001b[38;5;28;01mimport\u001b[39;00m version\n\u001b[1;32m---> 23\u001b[0m \u001b[38;5;28;01mfrom\u001b[39;00m \u001b[38;5;21;01m.\u001b[39;00m\u001b[38;5;21;01msearch\u001b[39;00m \u001b[38;5;28;01mimport\u001b[39;00m Search\n\u001b[0;32m     24\u001b[0m \u001b[38;5;28;01mfrom\u001b[39;00m \u001b[38;5;21;01m.\u001b[39;00m\u001b[38;5;21;01mlookup\u001b[39;00m \u001b[38;5;28;01mimport\u001b[39;00m Lookup\n\u001b[0;32m     25\u001b[0m \u001b[38;5;28;01mfrom\u001b[39;00m \u001b[38;5;21;01m.\u001b[39;00m\u001b[38;5;21;01mticker\u001b[39;00m \u001b[38;5;28;01mimport\u001b[39;00m Ticker\n",
      "File \u001b[1;32m~\\anaconda3\\Lib\\site-packages\\yfinance\\search.py:25\u001b[0m\n\u001b[0;32m     22\u001b[0m \u001b[38;5;28;01mimport\u001b[39;00m \u001b[38;5;21;01mjson\u001b[39;00m \u001b[38;5;28;01mas\u001b[39;00m \u001b[38;5;21;01m_json\u001b[39;00m\n\u001b[0;32m     23\u001b[0m \u001b[38;5;28;01mimport\u001b[39;00m \u001b[38;5;21;01mwarnings\u001b[39;00m\n\u001b[1;32m---> 25\u001b[0m \u001b[38;5;28;01mfrom\u001b[39;00m \u001b[38;5;21;01m.\u001b[39;00m \u001b[38;5;28;01mimport\u001b[39;00m utils\n\u001b[0;32m     26\u001b[0m \u001b[38;5;28;01mfrom\u001b[39;00m \u001b[38;5;21;01m.\u001b[39;00m\u001b[38;5;21;01mconst\u001b[39;00m \u001b[38;5;28;01mimport\u001b[39;00m _BASE_URL_, _SENTINEL_\n\u001b[0;32m     27\u001b[0m \u001b[38;5;28;01mfrom\u001b[39;00m \u001b[38;5;21;01m.\u001b[39;00m\u001b[38;5;21;01mdata\u001b[39;00m \u001b[38;5;28;01mimport\u001b[39;00m YfData\n",
      "File \u001b[1;32m~\\anaconda3\\Lib\\site-packages\\yfinance\\utils.py:36\u001b[0m\n\u001b[0;32m     33\u001b[0m \u001b[38;5;28;01mfrom\u001b[39;00m \u001b[38;5;21;01mtyping\u001b[39;00m \u001b[38;5;28;01mimport\u001b[39;00m List, Optional\n\u001b[0;32m     35\u001b[0m \u001b[38;5;28;01mimport\u001b[39;00m \u001b[38;5;21;01mnumpy\u001b[39;00m \u001b[38;5;28;01mas\u001b[39;00m \u001b[38;5;21;01m_np\u001b[39;00m\n\u001b[1;32m---> 36\u001b[0m \u001b[38;5;28;01mimport\u001b[39;00m \u001b[38;5;21;01mpandas\u001b[39;00m \u001b[38;5;28;01mas\u001b[39;00m \u001b[38;5;21;01m_pd\u001b[39;00m\n\u001b[0;32m     37\u001b[0m \u001b[38;5;28;01mimport\u001b[39;00m \u001b[38;5;21;01mpytz\u001b[39;00m \u001b[38;5;28;01mas\u001b[39;00m \u001b[38;5;21;01m_tz\u001b[39;00m\n\u001b[0;32m     38\u001b[0m \u001b[38;5;28;01mfrom\u001b[39;00m \u001b[38;5;21;01mdateutil\u001b[39;00m\u001b[38;5;21;01m.\u001b[39;00m\u001b[38;5;21;01mrelativedelta\u001b[39;00m \u001b[38;5;28;01mimport\u001b[39;00m relativedelta\n",
      "File \u001b[1;32m~\\anaconda3\\Lib\\site-packages\\pandas\\__init__.py:49\u001b[0m\n\u001b[0;32m     46\u001b[0m \u001b[38;5;66;03m# let init-time option registration happen\u001b[39;00m\n\u001b[0;32m     47\u001b[0m \u001b[38;5;28;01mimport\u001b[39;00m \u001b[38;5;21;01mpandas\u001b[39;00m\u001b[38;5;21;01m.\u001b[39;00m\u001b[38;5;21;01mcore\u001b[39;00m\u001b[38;5;21;01m.\u001b[39;00m\u001b[38;5;21;01mconfig_init\u001b[39;00m  \u001b[38;5;66;03m# pyright: ignore[reportUnusedImport] # noqa: F401\u001b[39;00m\n\u001b[1;32m---> 49\u001b[0m \u001b[38;5;28;01mfrom\u001b[39;00m \u001b[38;5;21;01mpandas\u001b[39;00m\u001b[38;5;21;01m.\u001b[39;00m\u001b[38;5;21;01mcore\u001b[39;00m\u001b[38;5;21;01m.\u001b[39;00m\u001b[38;5;21;01mapi\u001b[39;00m \u001b[38;5;28;01mimport\u001b[39;00m (\n\u001b[0;32m     50\u001b[0m     \u001b[38;5;66;03m# dtype\u001b[39;00m\n\u001b[0;32m     51\u001b[0m     ArrowDtype,\n\u001b[0;32m     52\u001b[0m     Int8Dtype,\n\u001b[0;32m     53\u001b[0m     Int16Dtype,\n\u001b[0;32m     54\u001b[0m     Int32Dtype,\n\u001b[0;32m     55\u001b[0m     Int64Dtype,\n\u001b[0;32m     56\u001b[0m     UInt8Dtype,\n\u001b[0;32m     57\u001b[0m     UInt16Dtype,\n\u001b[0;32m     58\u001b[0m     UInt32Dtype,\n\u001b[0;32m     59\u001b[0m     UInt64Dtype,\n\u001b[0;32m     60\u001b[0m     Float32Dtype,\n\u001b[0;32m     61\u001b[0m     Float64Dtype,\n\u001b[0;32m     62\u001b[0m     CategoricalDtype,\n\u001b[0;32m     63\u001b[0m     PeriodDtype,\n\u001b[0;32m     64\u001b[0m     IntervalDtype,\n\u001b[0;32m     65\u001b[0m     DatetimeTZDtype,\n\u001b[0;32m     66\u001b[0m     StringDtype,\n\u001b[0;32m     67\u001b[0m     BooleanDtype,\n\u001b[0;32m     68\u001b[0m     \u001b[38;5;66;03m# missing\u001b[39;00m\n\u001b[0;32m     69\u001b[0m     NA,\n\u001b[0;32m     70\u001b[0m     isna,\n\u001b[0;32m     71\u001b[0m     isnull,\n\u001b[0;32m     72\u001b[0m     notna,\n\u001b[0;32m     73\u001b[0m     notnull,\n\u001b[0;32m     74\u001b[0m     \u001b[38;5;66;03m# indexes\u001b[39;00m\n\u001b[0;32m     75\u001b[0m     Index,\n\u001b[0;32m     76\u001b[0m     CategoricalIndex,\n\u001b[0;32m     77\u001b[0m     RangeIndex,\n\u001b[0;32m     78\u001b[0m     MultiIndex,\n\u001b[0;32m     79\u001b[0m     IntervalIndex,\n\u001b[0;32m     80\u001b[0m     TimedeltaIndex,\n\u001b[0;32m     81\u001b[0m     DatetimeIndex,\n\u001b[0;32m     82\u001b[0m     PeriodIndex,\n\u001b[0;32m     83\u001b[0m     IndexSlice,\n\u001b[0;32m     84\u001b[0m     \u001b[38;5;66;03m# tseries\u001b[39;00m\n\u001b[0;32m     85\u001b[0m     NaT,\n\u001b[0;32m     86\u001b[0m     Period,\n\u001b[0;32m     87\u001b[0m     period_range,\n\u001b[0;32m     88\u001b[0m     Timedelta,\n\u001b[0;32m     89\u001b[0m     timedelta_range,\n\u001b[0;32m     90\u001b[0m     Timestamp,\n\u001b[0;32m     91\u001b[0m     date_range,\n\u001b[0;32m     92\u001b[0m     bdate_range,\n\u001b[0;32m     93\u001b[0m     Interval,\n\u001b[0;32m     94\u001b[0m     interval_range,\n\u001b[0;32m     95\u001b[0m     DateOffset,\n\u001b[0;32m     96\u001b[0m     \u001b[38;5;66;03m# conversion\u001b[39;00m\n\u001b[0;32m     97\u001b[0m     to_numeric,\n\u001b[0;32m     98\u001b[0m     to_datetime,\n\u001b[0;32m     99\u001b[0m     to_timedelta,\n\u001b[0;32m    100\u001b[0m     \u001b[38;5;66;03m# misc\u001b[39;00m\n\u001b[0;32m    101\u001b[0m     Flags,\n\u001b[0;32m    102\u001b[0m     Grouper,\n\u001b[0;32m    103\u001b[0m     factorize,\n\u001b[0;32m    104\u001b[0m     unique,\n\u001b[0;32m    105\u001b[0m     value_counts,\n\u001b[0;32m    106\u001b[0m     NamedAgg,\n\u001b[0;32m    107\u001b[0m     array,\n\u001b[0;32m    108\u001b[0m     Categorical,\n\u001b[0;32m    109\u001b[0m     set_eng_float_format,\n\u001b[0;32m    110\u001b[0m     Series,\n\u001b[0;32m    111\u001b[0m     DataFrame,\n\u001b[0;32m    112\u001b[0m )\n\u001b[0;32m    114\u001b[0m \u001b[38;5;28;01mfrom\u001b[39;00m \u001b[38;5;21;01mpandas\u001b[39;00m\u001b[38;5;21;01m.\u001b[39;00m\u001b[38;5;21;01mcore\u001b[39;00m\u001b[38;5;21;01m.\u001b[39;00m\u001b[38;5;21;01mdtypes\u001b[39;00m\u001b[38;5;21;01m.\u001b[39;00m\u001b[38;5;21;01mdtypes\u001b[39;00m \u001b[38;5;28;01mimport\u001b[39;00m SparseDtype\n\u001b[0;32m    116\u001b[0m \u001b[38;5;28;01mfrom\u001b[39;00m \u001b[38;5;21;01mpandas\u001b[39;00m\u001b[38;5;21;01m.\u001b[39;00m\u001b[38;5;21;01mtseries\u001b[39;00m\u001b[38;5;21;01m.\u001b[39;00m\u001b[38;5;21;01mapi\u001b[39;00m \u001b[38;5;28;01mimport\u001b[39;00m infer_freq\n",
      "File \u001b[1;32m~\\anaconda3\\Lib\\site-packages\\pandas\\core\\api.py:1\u001b[0m\n\u001b[1;32m----> 1\u001b[0m \u001b[38;5;28;01mfrom\u001b[39;00m \u001b[38;5;21;01mpandas\u001b[39;00m\u001b[38;5;21;01m.\u001b[39;00m\u001b[38;5;21;01m_libs\u001b[39;00m \u001b[38;5;28;01mimport\u001b[39;00m (\n\u001b[0;32m      2\u001b[0m     NaT,\n\u001b[0;32m      3\u001b[0m     Period,\n\u001b[0;32m      4\u001b[0m     Timedelta,\n\u001b[0;32m      5\u001b[0m     Timestamp,\n\u001b[0;32m      6\u001b[0m )\n\u001b[0;32m      7\u001b[0m \u001b[38;5;28;01mfrom\u001b[39;00m \u001b[38;5;21;01mpandas\u001b[39;00m\u001b[38;5;21;01m.\u001b[39;00m\u001b[38;5;21;01m_libs\u001b[39;00m\u001b[38;5;21;01m.\u001b[39;00m\u001b[38;5;21;01mmissing\u001b[39;00m \u001b[38;5;28;01mimport\u001b[39;00m NA\n\u001b[0;32m      9\u001b[0m \u001b[38;5;28;01mfrom\u001b[39;00m \u001b[38;5;21;01mpandas\u001b[39;00m\u001b[38;5;21;01m.\u001b[39;00m\u001b[38;5;21;01mcore\u001b[39;00m\u001b[38;5;21;01m.\u001b[39;00m\u001b[38;5;21;01mdtypes\u001b[39;00m\u001b[38;5;21;01m.\u001b[39;00m\u001b[38;5;21;01mdtypes\u001b[39;00m \u001b[38;5;28;01mimport\u001b[39;00m (\n\u001b[0;32m     10\u001b[0m     ArrowDtype,\n\u001b[0;32m     11\u001b[0m     CategoricalDtype,\n\u001b[1;32m   (...)\u001b[0m\n\u001b[0;32m     14\u001b[0m     PeriodDtype,\n\u001b[0;32m     15\u001b[0m )\n",
      "File \u001b[1;32m~\\anaconda3\\Lib\\site-packages\\pandas\\_libs\\__init__.py:17\u001b[0m\n\u001b[0;32m     13\u001b[0m \u001b[38;5;66;03m# Below imports needs to happen first to ensure pandas top level\u001b[39;00m\n\u001b[0;32m     14\u001b[0m \u001b[38;5;66;03m# module gets monkeypatched with the pandas_datetime_CAPI\u001b[39;00m\n\u001b[0;32m     15\u001b[0m \u001b[38;5;66;03m# see pandas_datetime_exec in pd_datetime.c\u001b[39;00m\n\u001b[0;32m     16\u001b[0m \u001b[38;5;28;01mimport\u001b[39;00m \u001b[38;5;21;01mpandas\u001b[39;00m\u001b[38;5;21;01m.\u001b[39;00m\u001b[38;5;21;01m_libs\u001b[39;00m\u001b[38;5;21;01m.\u001b[39;00m\u001b[38;5;21;01mpandas_parser\u001b[39;00m  \u001b[38;5;66;03m# isort: skip # type: ignore[reportUnusedImport]\u001b[39;00m\n\u001b[1;32m---> 17\u001b[0m \u001b[38;5;28;01mimport\u001b[39;00m \u001b[38;5;21;01mpandas\u001b[39;00m\u001b[38;5;21;01m.\u001b[39;00m\u001b[38;5;21;01m_libs\u001b[39;00m\u001b[38;5;21;01m.\u001b[39;00m\u001b[38;5;21;01mpandas_datetime\u001b[39;00m  \u001b[38;5;66;03m# noqa: F401 # isort: skip # type: ignore[reportUnusedImport]\u001b[39;00m\n\u001b[0;32m     18\u001b[0m \u001b[38;5;28;01mfrom\u001b[39;00m \u001b[38;5;21;01mpandas\u001b[39;00m\u001b[38;5;21;01m.\u001b[39;00m\u001b[38;5;21;01m_libs\u001b[39;00m\u001b[38;5;21;01m.\u001b[39;00m\u001b[38;5;21;01minterval\u001b[39;00m \u001b[38;5;28;01mimport\u001b[39;00m Interval\n\u001b[0;32m     19\u001b[0m \u001b[38;5;28;01mfrom\u001b[39;00m \u001b[38;5;21;01mpandas\u001b[39;00m\u001b[38;5;21;01m.\u001b[39;00m\u001b[38;5;21;01m_libs\u001b[39;00m\u001b[38;5;21;01m.\u001b[39;00m\u001b[38;5;21;01mtslibs\u001b[39;00m \u001b[38;5;28;01mimport\u001b[39;00m (\n\u001b[0;32m     20\u001b[0m     NaT,\n\u001b[0;32m     21\u001b[0m     NaTType,\n\u001b[1;32m   (...)\u001b[0m\n\u001b[0;32m     26\u001b[0m     iNaT,\n\u001b[0;32m     27\u001b[0m )\n",
      "\u001b[1;31mImportError\u001b[0m: numpy.core.multiarray failed to import"
     ]
    }
   ],
   "source": [
    "import yfinance as yf\n",
    "import pandas as pd\n",
    "import numpy as np\n",
    "import plotly.graph_objects as go\n",
    "from plotly.subplots import make_subplots\n",
    "from statsmodels.tsa.arima.model import ARIMA\n",
    "import warnings\n",
    "import traceback\n",
    "from pmdarima import auto_arima\n",
    "from scipy.stats import norm, t, skewnorm, kurtosis\n",
    "from scipy.stats import skew\n",
    "import random\n",
    "from tqdm import tqdm\n",
    "\n",
    "warnings.filterwarnings(\"ignore\")\n",
    "\n",
    "# --- 1. Data Acquisition ---\n",
    "def fetch_stock_data(ticker_symbol, start_date, end_date):\n",
    "    print(f\"Fetching data for {ticker_symbol} from {start_date} to {end_date}...\")\n",
    "    try:\n",
    "        data = yf.download(ticker_symbol, start=start_date, end=end_date)\n",
    "        if data.empty:\n",
    "            print(f\"Error: No data found for {ticker_symbol}.\")\n",
    "            return None\n",
    "\n",
    "        if 'Adj Close' not in data.columns:\n",
    "            print(f\"Warning: Using 'Close' price instead of 'Adj Close'.\")\n",
    "            if 'Close' in data.columns:\n",
    "                data['Adj Close'] = data['Close']\n",
    "            else:\n",
    "                print(f\"Error: No price column found.\")\n",
    "                return None\n",
    "\n",
    "        print(f\"Data fetched successfully. Rows: {len(data)}\")\n",
    "        return data\n",
    "    except Exception as e:\n",
    "        print(f\"Error fetching data: {e}\")\n",
    "        traceback.print_exc()\n",
    "        return None\n",
    "\n",
    "# --- 2. Descriptive Analysis ---\n",
    "def descriptive_analysis(data):\n",
    "    print(\"\\n--- Performing Descriptive Analysis ---\")\n",
    "    data['Daily_Return'] = data['Adj Close'].pct_change() * 100\n",
    "\n",
    "    price_stats = {\n",
    "        'Mean Price': data['Adj Close'].mean(),\n",
    "        'Median Price': data['Adj Close'].median(),\n",
    "        'Std Dev Price': data['Adj Close'].std(),\n",
    "        'Min Price': data['Adj Close'].min(),\n",
    "        'Max Price': data['Adj Close'].max()\n",
    "    }\n",
    "\n",
    "    returns_stats = {\n",
    "        'Mean Daily Return (%)': data['Daily_Return'].mean(),\n",
    "        'Median Daily Return (%)': data['Daily_Return'].median(),\n",
    "        'Std Dev Daily Return (%)': data['Daily_Return'].std(),\n",
    "        'Min Daily Return (%)': data['Daily_Return'].min(),\n",
    "        'Max Daily Return (%)': data['Daily_Return'].max(),\n",
    "        'Skewness': skew(data['Daily_Return'].dropna()),\n",
    "        'Kurtosis': kurtosis(data['Daily_Return'].dropna())\n",
    "    }\n",
    "\n",
    "    return price_stats, returns_stats, data['Daily_Return'].dropna()\n",
    "\n",
    "# --- 3. Diagnostic Analysis ---\n",
    "def diagnostic_analysis(data):\n",
    "    print(\"\\n--- Performing Diagnostic Analysis ---\")\n",
    "\n",
    "    # Moving Averages\n",
    "    data['SMA_50'] = data['Adj Close'].rolling(window=50).mean()\n",
    "    data['SMA_200'] = data['Adj Close'].rolling(window=200).mean()\n",
    "\n",
    "    # RSI\n",
    "    delta = data['Adj Close'].diff()\n",
    "    gain = delta.where(delta > 0, 0)\n",
    "    loss = -delta.where(delta < 0, 0)\n",
    "    avg_gain = gain.rolling(window=14).mean()\n",
    "    avg_loss = loss.rolling(window=14).mean()\n",
    "    rs = avg_gain / avg_loss\n",
    "    rs = rs.replace([np.inf, -np.inf], np.nan)\n",
    "    data['RSI'] = 100 - (100 / (1 + rs))\n",
    "\n",
    "    # MACD\n",
    "    exp1 = data['Adj Close'].ewm(span=12, adjust=False).mean()\n",
    "    exp2 = data['Adj Close'].ewm(span=26, adjust=False).mean()\n",
    "    data['MACD'] = exp1 - exp2\n",
    "    data['Signal_Line'] = data['MACD'].ewm(span=9, adjust=False).mean()\n",
    "    data['MACD_Histogram'] = data['MACD'] - data['Signal_Line']\n",
    "\n",
    "    # Bollinger Bands\n",
    "    data['Bollinger_Middle'] = data['Adj Close'].rolling(window=20).mean()\n",
    "    std_dev_20 = data['Adj Close'].rolling(window=20).std()\n",
    "    data['Bollinger_Upper'] = data['Bollinger_Middle'] + (std_dev_20 * 2)\n",
    "    data['Bollinger_Lower'] = data['Bollinger_Middle'] - (std_dev_20 * 2)\n",
    "\n",
    "    return data\n",
    "\n",
    "# --- 4. Predictive Analysis ---\n",
    "def predictive_analysis(data, forecast_horizon=90):  # Changed to 90 days\n",
    "    print(f\"\\n--- Performing Predictive Analysis ---\")\n",
    "    \n",
    "    if data['Adj Close'].empty or len(data) < 100:\n",
    "        print(\"Error: Not enough data points.\")\n",
    "        return pd.Series(), pd.DataFrame(), {}\n",
    "\n",
    "    try:\n",
    "        # Prepare data\n",
    "        arima_data = np.log(data['Adj Close'].dropna())\n",
    "        \n",
    "        # Auto ARIMA\n",
    "        print(\"Finding optimal ARIMA parameters...\")\n",
    "        model = auto_arima(\n",
    "            arima_data,\n",
    "            start_p=1, start_q=1,\n",
    "            max_p=5, max_q=5,\n",
    "            d=None,\n",
    "            seasonal=False,\n",
    "            trace=True,\n",
    "            error_action='ignore',\n",
    "            suppress_warnings=True,\n",
    "            stepwise=True\n",
    "        )\n",
    "        order = model.order\n",
    "        print(f\"Selected ARIMA{order} model\")\n",
    "\n",
    "        # Walk-forward validation\n",
    "        print(\"\\nPerforming walk-forward validation...\")\n",
    "        train_size = int(len(arima_data) * 0.8)\n",
    "        train, test = arima_data[:train_size], arima_data[train_size:]\n",
    "        \n",
    "        history = [x for x in train]\n",
    "        predictions = []\n",
    "        confidence_intervals = []\n",
    "        test_dates = test.index\n",
    "        \n",
    "        for t in range(len(test)):\n",
    "            current_model = ARIMA(history, order=order)\n",
    "            current_model_fit = current_model.fit()\n",
    "            forecast_result = current_model_fit.get_forecast(steps=1)\n",
    "            \n",
    "            if hasattr(forecast_result.predicted_mean, 'iloc'):\n",
    "                yhat = forecast_result.predicted_mean.iloc[0]\n",
    "                ci = forecast_result.conf_int().iloc[0].values\n",
    "            else:\n",
    "                yhat = forecast_result.predicted_mean[0]\n",
    "                ci = forecast_result.conf_int()[0]\n",
    "                \n",
    "            predictions.append(yhat)\n",
    "            confidence_intervals.append(ci)\n",
    "            history.append(test.iloc[t])\n",
    "        \n",
    "        # Calculate metrics\n",
    "        test_values = np.exp(test.values)\n",
    "        predictions = np.exp(np.array(predictions))\n",
    "        confidence_intervals = np.exp(np.array(confidence_intervals))\n",
    "        \n",
    "        mae = np.mean(np.abs(predictions - test_values))\n",
    "        mse = np.mean((predictions - test_values)**2)\n",
    "        rmse = np.sqrt(mse)\n",
    "        mape = np.mean(np.abs((predictions - test_values) / test_values)) * 100\n",
    "        \n",
    "        backtest_metrics = {\n",
    "            'MAE': mae,\n",
    "            'MSE': mse,\n",
    "            'RMSE': rmse,\n",
    "            'MAPE': mape,\n",
    "            'Test_Start_Date': test.index[0],\n",
    "            'Test_End_Date': test.index[-1],\n",
    "            'Predictions': predictions,\n",
    "            'Test_Values': test_values,\n",
    "            'Test_Dates': test_dates\n",
    "        }\n",
    "\n",
    "        # Final model\n",
    "        print(\"\\nTraining final model...\")\n",
    "        final_model = ARIMA(arima_data, order=order)\n",
    "        final_model_fit = final_model.fit()\n",
    "        forecast_results = final_model_fit.get_forecast(steps=forecast_horizon)\n",
    "        \n",
    "        if hasattr(forecast_results.predicted_mean, 'iloc'):\n",
    "            forecast_prices = np.exp(forecast_results.predicted_mean)\n",
    "            confidence_interval = np.exp(forecast_results.conf_int())\n",
    "        else:\n",
    "            forecast_prices = pd.Series(np.exp(forecast_results.predicted_mean))\n",
    "            confidence_interval = pd.DataFrame(np.exp(forecast_results.conf_int()))\n",
    "        \n",
    "        last_date = data.index[-1]\n",
    "        forecast_index = pd.date_range(start=last_date + pd.Timedelta(days=1), \n",
    "                                     periods=forecast_horizon, freq='B')\n",
    "        forecast_prices.index = forecast_index\n",
    "        confidence_interval.index = forecast_index\n",
    "\n",
    "        return forecast_prices, confidence_interval, backtest_metrics\n",
    "        \n",
    "    except Exception as e:\n",
    "        print(f\"Error during ARIMA forecasting: {e}\")\n",
    "        traceback.print_exc()\n",
    "        return pd.Series(), pd.DataFrame(), {}\n",
    "\n",
    "# --- Monte Carlo Simulation Class ---\n",
    "class MonteCarloSimulator:\n",
    "    def __init__(self, returns_series, num_simulations=10000, forecast_days=90):  # Changed to 90 days\n",
    "        self.returns = returns_series\n",
    "        self.num_simulations = num_simulations\n",
    "        self.forecast_days = forecast_days\n",
    "        self.current_price = None\n",
    "        self.simulated_paths = None\n",
    "        self.risk_metrics = None\n",
    "        \n",
    "    def fit_distributions(self):\n",
    "        self.normal_params = norm.fit(self.returns)\n",
    "        self.t_params = t.fit(self.returns)\n",
    "        \n",
    "        try:\n",
    "            self.skewnorm_params = skewnorm.fit(self.returns)\n",
    "        except:\n",
    "            self.skewnorm_params = None\n",
    "            \n",
    "        self.empirical_dist = self.returns.values\n",
    "    \n",
    "    def generate_simulated_paths(self, current_price):\n",
    "        self.current_price = current_price\n",
    "        self.fit_distributions()\n",
    "        \n",
    "        self.simulated_paths = np.zeros((self.num_simulations, self.forecast_days + 1))\n",
    "        self.simulated_paths[:, 0] = current_price\n",
    "        \n",
    "        for i in tqdm(range(self.num_simulations), desc=\"Running Monte Carlo Simulations\"):\n",
    "            model_choice = random.choice(['normal', 't', 'empirical', 'skewnorm'])\n",
    "            \n",
    "            for day in range(1, self.forecast_days + 1):\n",
    "                if model_choice == 'normal':\n",
    "                    daily_return = norm.rvs(*self.normal_params)\n",
    "                elif model_choice == 't':\n",
    "                    daily_return = t.rvs(*self.t_params)\n",
    "                elif model_choice == 'skewnorm' and self.skewnorm_params is not None:\n",
    "                    daily_return = skewnorm.rvs(*self.skewnorm_params)\n",
    "                else:\n",
    "                    daily_return = np.random.choice(self.empirical_dist)\n",
    "                \n",
    "                self.simulated_paths[i, day] = self.simulated_paths[i, day-1] * (1 + daily_return)\n",
    "    \n",
    "    def calculate_risk_metrics(self):\n",
    "        if self.simulated_paths is None:\n",
    "            raise ValueError(\"Run simulations first using generate_simulated_paths()\")\n",
    "            \n",
    "        final_prices = self.simulated_paths[:, -1]\n",
    "        returns = (final_prices - self.current_price) / self.current_price\n",
    "        \n",
    "        self.risk_metrics = {\n",
    "            'mean_price': np.mean(final_prices),\n",
    "            'median_price': np.median(final_prices),\n",
    "            'std_dev': np.std(final_prices),\n",
    "            'min_price': np.min(final_prices),\n",
    "            'max_price': np.max(final_prices),\n",
    "            '5th_percentile': np.percentile(final_prices, 5),\n",
    "            '95th_percentile': np.percentile(final_prices, 95),\n",
    "            'probability_profit': np.mean(returns > 0) * 100,\n",
    "            'expected_shortfall_5%': np.mean(final_prices[final_prices <= np.percentile(final_prices, 5)]),\n",
    "            'value_at_risk_5%': np.percentile(final_prices, 5),\n",
    "            'sharpe_ratio': np.mean(returns) / np.std(returns) * np.sqrt(252),\n",
    "            'kurtosis': kurtosis(final_prices),\n",
    "            'skewness': skew(final_prices)\n",
    "        }\n",
    "        \n",
    "        return self.risk_metrics\n",
    "        \n",
    "    def plot_simulation_results(self, ticker_symbol):\n",
    "        if self.simulated_paths is None or self.risk_metrics is None:\n",
    "            raise ValueError(\"Run simulations and calculate metrics first\")\n",
    "            \n",
    "        # MODIFICATION HERE: Define subplot types using 'specs'\n",
    "        fig = make_subplots(\n",
    "            rows=2, cols=2, \n",
    "            subplot_titles=(\n",
    "                \"Simulated Price Paths\", \n",
    "                \"Final Price Distribution\",\n",
    "                \"Risk Metrics Summary\",\n",
    "                \"Probability Distribution\"\n",
    "            ),\n",
    "            # Define specs for each subplot\n",
    "            specs=[\n",
    "                [{'type': 'xy'}, {'type': 'xy'}],  # Row 1: XY plots\n",
    "                [{'type': 'table'}, {'type': 'xy'}]  # Row 2: Table, then XY plot\n",
    "            ]\n",
    "        )\n",
    "        \n",
    "        # Plot 1: Sample of simulated paths\n",
    "        for i in range(min(100, self.num_simulations)):\n",
    "            fig.add_trace(\n",
    "                go.Scatter(\n",
    "                    x=list(range(self.forecast_days + 1)),\n",
    "                    y=self.simulated_paths[i],\n",
    "                    mode='lines',\n",
    "                    line=dict(width=1, color='rgba(0,100,80,0.1)'),\n",
    "                    showlegend=False\n",
    "                ),\n",
    "                row=1, col=1\n",
    "            )\n",
    "        \n",
    "        # Add mean path\n",
    "        mean_path = np.mean(self.simulated_paths, axis=0)\n",
    "        fig.add_trace(\n",
    "            go.Scatter(\n",
    "                x=list(range(self.forecast_days + 1)),\n",
    "                y=mean_path,\n",
    "                mode='lines',\n",
    "                line=dict(width=2, color='red'),\n",
    "                name='Mean Path'\n",
    "            ),\n",
    "            row=1, col=1\n",
    "        )\n",
    "        \n",
    "        # Plot 2: Histogram of final prices\n",
    "        fig.add_trace(\n",
    "            go.Histogram(\n",
    "                x=self.simulated_paths[:, -1],\n",
    "                nbinsx=50,\n",
    "                name='Final Prices',\n",
    "                marker_color='#1f77b4'\n",
    "            ),\n",
    "            row=1, col=2\n",
    "        )\n",
    "        \n",
    "        # Add VaR line\n",
    "        fig.add_vline(\n",
    "            x=self.risk_metrics['value_at_risk_5%'],\n",
    "            line=dict(color='red', dash='dash'),\n",
    "            row=1, col=2\n",
    "        )\n",
    "        \n",
    "        # Plot 3: Risk metrics table\n",
    "        # The metrics_text variable is no longer directly used for the table content,\n",
    "        # but it's fine to keep if you use it elsewhere or for debugging.\n",
    "        metrics_text = [\n",
    "            f\"<b>Mean Price:</b> ₹{self.risk_metrics['mean_price']:.2f}\",\n",
    "            f\"<b>Median Price:</b> ₹{self.risk_metrics['median_price']:.2f}\",\n",
    "            f\"<b>Std Dev:</b> ₹{self.risk_metrics['std_dev']:.2f}\",\n",
    "            f\"<b>5th Percentile:</b> ₹{self.risk_metrics['5th_percentile']:.2f}\",\n",
    "            f\"<b>95th Percentile:</b> ₹{self.risk_metrics['95th_percentile']:.2f}\",\n",
    "            f\"<b>Probability of Profit:</b> {self.risk_metrics['probability_profit']:.1f}%\",\n",
    "            f\"<b>Value at Risk (5%):</b> ₹{self.risk_metrics['value_at_risk_5%']:.2f}\",\n",
    "            f\"<b>Expected Shortfall (5%):</b> ₹{self.risk_metrics['expected_shortfall_5%']:.2f}\",\n",
    "            f\"<b>Sharpe Ratio:</b> {self.risk_metrics['sharpe_ratio']:.2f}\"\n",
    "        ]\n",
    "        \n",
    "        fig.add_trace(\n",
    "            go.Table(\n",
    "                header=dict(values=['<b>Risk Metric</b>', '<b>Value</b>'],\n",
    "                            fill_color='paleturquoise',\n",
    "                            align='left'),\n",
    "                cells=dict(values=[\n",
    "                    [\"Mean Price\", \"Median Price\", \"Std Dev\",\n",
    "                     \"5th Percentile\", \"95th Percentile\",\n",
    "                     \"Probability of Profit\",\n",
    "                     \"Value at Risk (5%)\",\n",
    "                     \"Expected Shortfall (5%)\",\n",
    "                     \"Sharpe Ratio\"],\n",
    "                    [f\"₹{self.risk_metrics['mean_price']:.2f}\",\n",
    "                     f\"₹{self.risk_metrics['median_price']:.2f}\",\n",
    "                     f\"₹{self.risk_metrics['std_dev']:.2f}\",\n",
    "                     f\"₹{self.risk_metrics['5th_percentile']:.2f}\",\n",
    "                     f\"₹{self.risk_metrics['95th_percentile']:.2f}\",\n",
    "                     f\"{self.risk_metrics['probability_profit']:.1f}%\",\n",
    "                     f\"₹{self.risk_metrics['value_at_risk_5%']:.2f}\",\n",
    "                     f\"₹{self.risk_metrics['expected_shortfall_5%']:.2f}\",\n",
    "                     f\"{self.risk_metrics['sharpe_ratio']:.2f}\"\n",
    "                    ]\n",
    "                ]),\n",
    "                columnwidth=[1, 1]\n",
    "            ),\n",
    "            row=2, col=1\n",
    "        )\n",
    "        \n",
    "        # Plot 4: Probability distribution comparison\n",
    "        x = np.linspace(min(self.returns), max(self.returns), 100)\n",
    "        \n",
    "        # Normal distribution\n",
    "        fig.add_trace(\n",
    "            go.Scatter(\n",
    "                x=x,\n",
    "                y=norm.pdf(x, *self.normal_params),\n",
    "                mode='lines',\n",
    "                name='Normal Fit',\n",
    "                line=dict(color='red')\n",
    "            ),\n",
    "            row=2, col=2\n",
    "        )\n",
    "        \n",
    "        # T distribution\n",
    "        fig.add_trace(\n",
    "            go.Scatter(\n",
    "                x=x,\n",
    "                y=t.pdf(x, *self.t_params),\n",
    "                mode='lines',\n",
    "                name='T Fit',\n",
    "                line=dict(color='blue')\n",
    "            ),\n",
    "            row=2, col=2\n",
    "        )\n",
    "        \n",
    "        # Empirical distribution\n",
    "        fig.add_trace(\n",
    "            go.Histogram(\n",
    "                x=self.returns,\n",
    "                histnorm='probability density',\n",
    "                name='Empirical',\n",
    "                marker_color='rgba(0,0,0,0.5)',\n",
    "                showlegend=False\n",
    "            ),\n",
    "            row=2, col=2\n",
    "        )\n",
    "        \n",
    "        fig.update_layout(\n",
    "            title_text=f\"{ticker_symbol} Monte Carlo Simulation Results ({self.num_simulations} simulations)\",\n",
    "            height=1000,\n",
    "            showlegend=True,\n",
    "            template=\"plotly_white\"\n",
    "        )\n",
    "        \n",
    "        fig.show()\n",
    "\n",
    "# --- 5. Prescriptive Analysis ---\n",
    "def prescriptive_analysis(data, forecast_prices, risk_metrics=None):\n",
    "    print(\"\\n--- Performing Prescriptive Analysis ---\")\n",
    "\n",
    "    signal = \"HOLD\"\n",
    "    reason = \"Neutral outlook.\"\n",
    "\n",
    "    if data.empty or forecast_prices.empty or len(data) < 200:\n",
    "        return signal, reason\n",
    "\n",
    "    latest_close = data['Adj Close'].iloc[-1]\n",
    "    \n",
    "    # Get indicator values with safety checks\n",
    "    indicators = {}\n",
    "    for col in ['SMA_50', 'SMA_200', 'RSI', 'MACD', 'Signal_Line']:\n",
    "        indicators[col] = data[col].iloc[-1] if col in data.columns and not pd.isna(data[col].iloc[-1]) else None\n",
    "\n",
    "    # Predictive trend\n",
    "    predictive_trend = \"neutral\"\n",
    "    if not forecast_prices.empty:\n",
    "        if forecast_prices.iloc[-1] > forecast_prices.iloc[0] * 1.05:  # More sensitive threshold for 90 days\n",
    "            predictive_trend = \"bullish\"\n",
    "        elif forecast_prices.iloc[-1] < forecast_prices.iloc[0] * 0.95:  # More sensitive threshold for 90 days\n",
    "            predictive_trend = \"bearish\"\n",
    "\n",
    "    # Signal logic\n",
    "    if all(v is not None for v in indicators.values()):\n",
    "        if (latest_close > indicators['SMA_50'] and \n",
    "            indicators['SMA_50'] > indicators['SMA_200'] and\n",
    "            indicators['RSI'] < 70 and\n",
    "            indicators['MACD'] > indicators['Signal_Line'] and\n",
    "            predictive_trend == \"bullish\"):\n",
    "            signal = \"STRONG BUY\" if (risk_metrics and risk_metrics['probability_profit'] > 65) else \"BUY\"\n",
    "            reason = \"Strong bullish confluence\"\n",
    "        elif (latest_close < indicators['SMA_50'] and \n",
    "              indicators['SMA_50'] < indicators['SMA_200'] and\n",
    "              indicators['RSI'] > 30 and\n",
    "              indicators['MACD'] < indicators['Signal_Line'] and\n",
    "              predictive_trend == \"bearish\"):\n",
    "            signal = \"STRONG SELL\" if (risk_metrics and risk_metrics['probability_profit'] < 35) else \"SELL\"\n",
    "            reason = \"Strong bearish confluence\"\n",
    "        elif indicators['RSI'] > 70:\n",
    "            signal = \"SELL (Overbought)\"\n",
    "            reason = \"Overbought based on RSI\"\n",
    "        elif indicators['RSI'] < 30:\n",
    "            signal = \"BUY (Oversold)\"\n",
    "            reason = \"Oversold based on RSI\"\n",
    "\n",
    "    # Enhance with simulation results if available\n",
    "    if risk_metrics is not None:\n",
    "        if risk_metrics['probability_profit'] > 65:\n",
    "            reason += f\" High probability of profit ({risk_metrics['probability_profit']:.1f}%).\"\n",
    "        elif risk_metrics['probability_profit'] < 35:\n",
    "            reason += f\" Low probability of profit ({risk_metrics['probability_profit']:.1f}%).\"\n",
    "        \n",
    "        if risk_metrics['sharpe_ratio'] > 1.5:\n",
    "            reason += \" Excellent risk-reward profile.\"\n",
    "        elif risk_metrics['sharpe_ratio'] < 0:\n",
    "            reason += \" Poor risk-reward profile.\"\n",
    "\n",
    "    return signal, reason\n",
    "\n",
    "# --- 6. Enhanced Plotting Function ---\n",
    "def generate_plotly_plots(data, descriptive_stats, returns_data, forecast_prices, confidence_interval, ticker_symbol, backtest_metrics=None):\n",
    "    print(f\"\\n--- Generating Plots for {ticker_symbol} ---\")\n",
    "    \n",
    "    common_layout = {\n",
    "        'template': \"plotly_white\",\n",
    "        'font': dict(family=\"Inter, sans-serif\"),\n",
    "        'hovermode': \"x unified\",\n",
    "        'margin': dict(l=50, r=50, t=50, b=50),\n",
    "    }\n",
    "\n",
    "    # Plot 1: Historical Price\n",
    "    fig1 = go.Figure()\n",
    "    fig1.add_trace(go.Scatter(x=data.index, y=data['Adj Close'], mode='lines', name='Price'))\n",
    "    fig1.update_layout(title=f'{ticker_symbol} Price History', **common_layout)\n",
    "    fig1.show()\n",
    "\n",
    "    # Plot 2: Volume\n",
    "    fig2 = go.Figure()\n",
    "    fig2.add_trace(go.Bar(x=data.index, y=data['Volume'], name='Volume'))\n",
    "    fig2.update_layout(title=f'{ticker_symbol} Volume', **common_layout)\n",
    "    fig2.show()\n",
    "\n",
    "    # Plot 3: Returns Distribution\n",
    "    fig3 = go.Figure()\n",
    "    fig3.add_trace(go.Histogram(x=returns_data, nbinsx=50, name='Returns'))\n",
    "    fig3.update_layout(title=f'{ticker_symbol} Returns Distribution', **common_layout)\n",
    "    fig3.show()\n",
    "\n",
    "    # Plot 4: Moving Averages\n",
    "    fig4 = go.Figure()\n",
    "    fig4.add_trace(go.Scatter(x=data.index, y=data['Adj Close'], name='Price'))\n",
    "    fig4.add_trace(go.Scatter(x=data.index, y=data['SMA_50'], name='50-Day SMA'))\n",
    "    fig4.add_trace(go.Scatter(x=data.index, y=data['SMA_200'], name='200-Day SMA'))\n",
    "    fig4.update_layout(title=f'{ticker_symbol} Moving Averages', **common_layout)\n",
    "    fig4.show()\n",
    "\n",
    "    # Plot 5: RSI\n",
    "    fig5 = go.Figure()\n",
    "    fig5.add_trace(go.Scatter(x=data.index, y=data['RSI'], name='RSI'))\n",
    "    fig5.add_hline(y=70, line_dash=\"dash\", line_color=\"red\")\n",
    "    fig5.add_hline(y=30, line_dash=\"dash\", line_color=\"green\")\n",
    "    fig5.update_layout(title=f'{ticker_symbol} RSI', **common_layout)\n",
    "    fig5.show()\n",
    "\n",
    "    # Plot 6: MACD\n",
    "    fig6 = make_subplots(rows=2, cols=1, shared_xaxes=True)\n",
    "    fig6.add_trace(go.Scatter(x=data.index, y=data['MACD'], name='MACD'), row=1, col=1)\n",
    "    fig6.add_trace(go.Scatter(x=data.index, y=data['Signal_Line'], name='Signal'), row=1, col=1)\n",
    "    fig6.add_trace(go.Bar(x=data.index, y=data['MACD_Histogram'], name='Histogram'), row=2, col=1)\n",
    "    fig6.update_layout(title=f'{ticker_symbol} MACD', **common_layout)\n",
    "    fig6.show()\n",
    "\n",
    "    # Plot 7: Bollinger Bands\n",
    "    fig7 = go.Figure()\n",
    "    fig7.add_trace(go.Scatter(x=data.index, y=data['Adj Close'], name='Price'))\n",
    "    fig7.add_trace(go.Scatter(x=data.index, y=data['Bollinger_Upper'], name='Upper Band'))\n",
    "    fig7.add_trace(go.Scatter(x=data.index, y=data['Bollinger_Middle'], name='Middle Band'))\n",
    "    fig7.add_trace(go.Scatter(x=data.index, y=data['Bollinger_Lower'], name='Lower Band'))\n",
    "    fig7.update_layout(title=f'{ticker_symbol} Bollinger Bands', **common_layout)\n",
    "    fig7.show()\n",
    "\n",
    "    # Plot 8: Forecast\n",
    "    if not forecast_prices.empty:\n",
    "        fig8 = go.Figure()\n",
    "        fig8.add_trace(go.Scatter(x=data.index[-90:], y=data['Adj Close'].iloc[-90:], name='Historical'))\n",
    "        fig8.add_trace(go.Scatter(x=forecast_prices.index, y=forecast_prices, name='Forecast'))\n",
    "        fig8.add_trace(go.Scatter(\n",
    "            x=confidence_interval.index.tolist() + confidence_interval.index.tolist()[::-1],\n",
    "            y=confidence_interval.iloc[:, 1].tolist() + confidence_interval.iloc[:, 0].tolist()[::-1],\n",
    "            fill='toself', fillcolor='rgba(0,100,80,0.2)',\n",
    "            line=dict(color='rgba(255,255,255,0)'),\n",
    "            showlegend=False\n",
    "        ))\n",
    "        fig8.update_layout(title=f'{ticker_symbol} 90-Day Price Forecast', **common_layout)\n",
    "        fig8.show()\n",
    "\n",
    "    # Plot 9: Backtesting (if available)\n",
    "    if backtest_metrics and 'Test_Dates' in backtest_metrics:\n",
    "        fig9 = go.Figure()\n",
    "        fig9.add_trace(go.Scatter(\n",
    "            x=backtest_metrics['Test_Dates'],\n",
    "            y=backtest_metrics['Test_Values'],\n",
    "            name='Actual Prices'\n",
    "        ))\n",
    "        fig9.add_trace(go.Scatter(\n",
    "            x=backtest_metrics['Test_Dates'],\n",
    "            y=backtest_metrics['Predictions'],\n",
    "            name='Predictions',\n",
    "            line=dict(dash='dash')\n",
    "        ))\n",
    "        fig9.update_layout(\n",
    "            title=f'{ticker_symbol} ARIMA Backtesting',\n",
    "            xaxis_title='Date',\n",
    "            yaxis_title='Price',\n",
    "            annotations=[\n",
    "                dict(\n",
    "                    x=0.05,\n",
    "                    y=0.95,\n",
    "                    xref='paper',\n",
    "                    yref='paper',\n",
    "                    text=f\"MAE: {backtest_metrics['MAE']:.2f}<br>RMSE: {backtest_metrics['RMSE']:.2f}\",\n",
    "                    showarrow=False,\n",
    "                    bgcolor='white',\n",
    "                    bordercolor='black',\n",
    "                    borderwidth=1\n",
    "                )\n",
    "            ],\n",
    "            **common_layout\n",
    "        )\n",
    "        fig9.show()\n",
    "\n",
    "# --- 7. Final Verdict Display ---\n",
    "def display_final_verdict_plot(signal, reason, ticker_symbol):\n",
    "    if 'BUY' in signal:\n",
    "        color = 'green'\n",
    "    elif 'SELL' in signal:\n",
    "        color = 'red'\n",
    "    else:\n",
    "        color = 'blue'\n",
    "    \n",
    "    fig = go.Figure()\n",
    "    fig.add_annotation(\n",
    "        text=f\"<b>{signal}</b>\",\n",
    "        x=0.5, y=0.7,\n",
    "        showarrow=False,\n",
    "        font=dict(size=80, color=color)\n",
    "    )\n",
    "    fig.add_annotation(\n",
    "        text=reason.replace('. ', '.<br>'),\n",
    "        x=0.5, y=0.3,\n",
    "        showarrow=False,\n",
    "        font=dict(size=18, color='gray')\n",
    "    )\n",
    "    fig.update_layout(\n",
    "        title=f\"90-Day Recommendation for {ticker_symbol}\",\n",
    "        xaxis=dict(showgrid=False, showticklabels=False),\n",
    "        yaxis=dict(showgrid=False, showticklabels=False),\n",
    "        plot_bgcolor='white',\n",
    "        height=800,\n",
    "        width=800\n",
    "    )\n",
    "    fig.show()\n",
    "\n",
    "# --- Main Function ---\n",
    "def analyze_stock(ticker_symbol):\n",
    "    end_date = pd.to_datetime('today').strftime('%Y-%m-%d')\n",
    "    start_date = (pd.to_datetime('today') - pd.DateOffset(years=5)).strftime('%Y-%m-%d')\n",
    "\n",
    "    # 1. Data Acquisition\n",
    "    data = fetch_stock_data(ticker_symbol, start_date, end_date)\n",
    "    if data is None:\n",
    "        return\n",
    "\n",
    "    # 2. Descriptive Analysis\n",
    "    if len(data) < 2:\n",
    "        price_stats, returns_stats, daily_returns = {}, {}, pd.Series()\n",
    "    else:\n",
    "        price_stats, returns_stats, daily_returns = descriptive_analysis(data.copy())\n",
    "\n",
    "    # 3. Diagnostic Analysis\n",
    "    data = diagnostic_analysis(data)\n",
    "\n",
    "    # 4. Predictive Analysis (90-day forecast)\n",
    "    if len(data) < 100:\n",
    "        forecast_prices, confidence_interval, backtest_metrics = pd.Series(), pd.DataFrame(), {}\n",
    "    else:\n",
    "        forecast_prices, confidence_interval, backtest_metrics = predictive_analysis(data.copy(), forecast_horizon=90)\n",
    "\n",
    "    # 5. Monte Carlo Simulation (90-day forecast)\n",
    "    risk_metrics = None\n",
    "    if len(daily_returns) > 50:\n",
    "        returns_decimal = daily_returns / 100\n",
    "        \n",
    "        simulator = MonteCarloSimulator(\n",
    "            returns_series=returns_decimal,\n",
    "            num_simulations=5000,\n",
    "            forecast_days=90\n",
    "        )\n",
    "        \n",
    "        current_price = data['Adj Close'].iloc[-1]\n",
    "        simulator.generate_simulated_paths(current_price)\n",
    "        risk_metrics = simulator.calculate_risk_metrics()\n",
    "        simulator.plot_simulation_results(ticker_symbol)\n",
    "    else:\n",
    "        print(\"\\nInsufficient data for Monte Carlo simulations\")\n",
    "\n",
    "    # 6. Prescriptive Analysis\n",
    "    signal, reason = prescriptive_analysis(data, forecast_prices, risk_metrics)\n",
    "\n",
    "    # 7. Generate Plots\n",
    "    generate_plotly_plots(\n",
    "        data, price_stats, daily_returns, \n",
    "        forecast_prices, confidence_interval, \n",
    "        ticker_symbol, backtest_metrics\n",
    "    )\n",
    "\n",
    "    # 8. Display Verdict\n",
    "    display_final_verdict_plot(signal, reason, ticker_symbol)\n",
    "\n",
    "# --- Run Analysis ---\n",
    "if __name__ == \"__main__\":\n",
    "    stock_symbol = input(\"Enter stock ticker (e.g., AAPL, MSFT): \").strip()\n",
    "    analyze_stock(stock_symbol)"
   ]
  },
  {
   "cell_type": "code",
   "execution_count": 2,
   "id": "06a4a2e8-f028-4f5a-a740-081b3e2ac792",
   "metadata": {},
   "outputs": [
    {
     "name": "stderr",
     "output_type": "stream",
     "text": [
      "[*********************100%***********************]  1 of 1 completed\n"
     ]
    },
    {
     "data": {
      "application/vnd.plotly.v1+json": {
       "config": {
        "plotlyServerURL": "https://plot.ly"
       },
       "data": [
        {
         "cells": {
          "align": "left",
          "fill": {
           "color": "lavender"
          },
          "values": [
           [
            "Within +/- 1.0% Tolerance",
            "Overestimated by > 1.0%",
            "Underestimated by > 1.0%"
           ],
           [
            38,
            11,
            16
           ],
           [
            "58.46%",
            "16.92%",
            "24.62%"
           ]
          ]
         },
         "header": {
          "align": "left",
          "fill": {
           "color": "paleturquoise"
          },
          "values": [
           "Category",
           "Count",
           "Probability (%)"
          ]
         },
         "type": "table"
        }
       ],
       "layout": {
        "height": 400,
        "template": {
         "data": {
          "bar": [
           {
            "error_x": {
             "color": "#2a3f5f"
            },
            "error_y": {
             "color": "#2a3f5f"
            },
            "marker": {
             "line": {
              "color": "#E5ECF6",
              "width": 0.5
             },
             "pattern": {
              "fillmode": "overlay",
              "size": 10,
              "solidity": 0.2
             }
            },
            "type": "bar"
           }
          ],
          "barpolar": [
           {
            "marker": {
             "line": {
              "color": "#E5ECF6",
              "width": 0.5
             },
             "pattern": {
              "fillmode": "overlay",
              "size": 10,
              "solidity": 0.2
             }
            },
            "type": "barpolar"
           }
          ],
          "carpet": [
           {
            "aaxis": {
             "endlinecolor": "#2a3f5f",
             "gridcolor": "white",
             "linecolor": "white",
             "minorgridcolor": "white",
             "startlinecolor": "#2a3f5f"
            },
            "baxis": {
             "endlinecolor": "#2a3f5f",
             "gridcolor": "white",
             "linecolor": "white",
             "minorgridcolor": "white",
             "startlinecolor": "#2a3f5f"
            },
            "type": "carpet"
           }
          ],
          "choropleth": [
           {
            "colorbar": {
             "outlinewidth": 0,
             "ticks": ""
            },
            "type": "choropleth"
           }
          ],
          "contour": [
           {
            "colorbar": {
             "outlinewidth": 0,
             "ticks": ""
            },
            "colorscale": [
             [
              0,
              "#0d0887"
             ],
             [
              0.1111111111111111,
              "#46039f"
             ],
             [
              0.2222222222222222,
              "#7201a8"
             ],
             [
              0.3333333333333333,
              "#9c179e"
             ],
             [
              0.4444444444444444,
              "#bd3786"
             ],
             [
              0.5555555555555556,
              "#d8576b"
             ],
             [
              0.6666666666666666,
              "#ed7953"
             ],
             [
              0.7777777777777778,
              "#fb9f3a"
             ],
             [
              0.8888888888888888,
              "#fdca26"
             ],
             [
              1,
              "#f0f921"
             ]
            ],
            "type": "contour"
           }
          ],
          "contourcarpet": [
           {
            "colorbar": {
             "outlinewidth": 0,
             "ticks": ""
            },
            "type": "contourcarpet"
           }
          ],
          "heatmap": [
           {
            "colorbar": {
             "outlinewidth": 0,
             "ticks": ""
            },
            "colorscale": [
             [
              0,
              "#0d0887"
             ],
             [
              0.1111111111111111,
              "#46039f"
             ],
             [
              0.2222222222222222,
              "#7201a8"
             ],
             [
              0.3333333333333333,
              "#9c179e"
             ],
             [
              0.4444444444444444,
              "#bd3786"
             ],
             [
              0.5555555555555556,
              "#d8576b"
             ],
             [
              0.6666666666666666,
              "#ed7953"
             ],
             [
              0.7777777777777778,
              "#fb9f3a"
             ],
             [
              0.8888888888888888,
              "#fdca26"
             ],
             [
              1,
              "#f0f921"
             ]
            ],
            "type": "heatmap"
           }
          ],
          "histogram": [
           {
            "marker": {
             "pattern": {
              "fillmode": "overlay",
              "size": 10,
              "solidity": 0.2
             }
            },
            "type": "histogram"
           }
          ],
          "histogram2d": [
           {
            "colorbar": {
             "outlinewidth": 0,
             "ticks": ""
            },
            "colorscale": [
             [
              0,
              "#0d0887"
             ],
             [
              0.1111111111111111,
              "#46039f"
             ],
             [
              0.2222222222222222,
              "#7201a8"
             ],
             [
              0.3333333333333333,
              "#9c179e"
             ],
             [
              0.4444444444444444,
              "#bd3786"
             ],
             [
              0.5555555555555556,
              "#d8576b"
             ],
             [
              0.6666666666666666,
              "#ed7953"
             ],
             [
              0.7777777777777778,
              "#fb9f3a"
             ],
             [
              0.8888888888888888,
              "#fdca26"
             ],
             [
              1,
              "#f0f921"
             ]
            ],
            "type": "histogram2d"
           }
          ],
          "histogram2dcontour": [
           {
            "colorbar": {
             "outlinewidth": 0,
             "ticks": ""
            },
            "colorscale": [
             [
              0,
              "#0d0887"
             ],
             [
              0.1111111111111111,
              "#46039f"
             ],
             [
              0.2222222222222222,
              "#7201a8"
             ],
             [
              0.3333333333333333,
              "#9c179e"
             ],
             [
              0.4444444444444444,
              "#bd3786"
             ],
             [
              0.5555555555555556,
              "#d8576b"
             ],
             [
              0.6666666666666666,
              "#ed7953"
             ],
             [
              0.7777777777777778,
              "#fb9f3a"
             ],
             [
              0.8888888888888888,
              "#fdca26"
             ],
             [
              1,
              "#f0f921"
             ]
            ],
            "type": "histogram2dcontour"
           }
          ],
          "mesh3d": [
           {
            "colorbar": {
             "outlinewidth": 0,
             "ticks": ""
            },
            "type": "mesh3d"
           }
          ],
          "parcoords": [
           {
            "line": {
             "colorbar": {
              "outlinewidth": 0,
              "ticks": ""
             }
            },
            "type": "parcoords"
           }
          ],
          "pie": [
           {
            "automargin": true,
            "type": "pie"
           }
          ],
          "scatter": [
           {
            "fillpattern": {
             "fillmode": "overlay",
             "size": 10,
             "solidity": 0.2
            },
            "type": "scatter"
           }
          ],
          "scatter3d": [
           {
            "line": {
             "colorbar": {
              "outlinewidth": 0,
              "ticks": ""
             }
            },
            "marker": {
             "colorbar": {
              "outlinewidth": 0,
              "ticks": ""
             }
            },
            "type": "scatter3d"
           }
          ],
          "scattercarpet": [
           {
            "marker": {
             "colorbar": {
              "outlinewidth": 0,
              "ticks": ""
             }
            },
            "type": "scattercarpet"
           }
          ],
          "scattergeo": [
           {
            "marker": {
             "colorbar": {
              "outlinewidth": 0,
              "ticks": ""
             }
            },
            "type": "scattergeo"
           }
          ],
          "scattergl": [
           {
            "marker": {
             "colorbar": {
              "outlinewidth": 0,
              "ticks": ""
             }
            },
            "type": "scattergl"
           }
          ],
          "scattermap": [
           {
            "marker": {
             "colorbar": {
              "outlinewidth": 0,
              "ticks": ""
             }
            },
            "type": "scattermap"
           }
          ],
          "scattermapbox": [
           {
            "marker": {
             "colorbar": {
              "outlinewidth": 0,
              "ticks": ""
             }
            },
            "type": "scattermapbox"
           }
          ],
          "scatterpolar": [
           {
            "marker": {
             "colorbar": {
              "outlinewidth": 0,
              "ticks": ""
             }
            },
            "type": "scatterpolar"
           }
          ],
          "scatterpolargl": [
           {
            "marker": {
             "colorbar": {
              "outlinewidth": 0,
              "ticks": ""
             }
            },
            "type": "scatterpolargl"
           }
          ],
          "scatterternary": [
           {
            "marker": {
             "colorbar": {
              "outlinewidth": 0,
              "ticks": ""
             }
            },
            "type": "scatterternary"
           }
          ],
          "surface": [
           {
            "colorbar": {
             "outlinewidth": 0,
             "ticks": ""
            },
            "colorscale": [
             [
              0,
              "#0d0887"
             ],
             [
              0.1111111111111111,
              "#46039f"
             ],
             [
              0.2222222222222222,
              "#7201a8"
             ],
             [
              0.3333333333333333,
              "#9c179e"
             ],
             [
              0.4444444444444444,
              "#bd3786"
             ],
             [
              0.5555555555555556,
              "#d8576b"
             ],
             [
              0.6666666666666666,
              "#ed7953"
             ],
             [
              0.7777777777777778,
              "#fb9f3a"
             ],
             [
              0.8888888888888888,
              "#fdca26"
             ],
             [
              1,
              "#f0f921"
             ]
            ],
            "type": "surface"
           }
          ],
          "table": [
           {
            "cells": {
             "fill": {
              "color": "#EBF0F8"
             },
             "line": {
              "color": "white"
             }
            },
            "header": {
             "fill": {
              "color": "#C8D4E3"
             },
             "line": {
              "color": "white"
             }
            },
            "type": "table"
           }
          ]
         },
         "layout": {
          "annotationdefaults": {
           "arrowcolor": "#2a3f5f",
           "arrowhead": 0,
           "arrowwidth": 1
          },
          "autotypenumbers": "strict",
          "coloraxis": {
           "colorbar": {
            "outlinewidth": 0,
            "ticks": ""
           }
          },
          "colorscale": {
           "diverging": [
            [
             0,
             "#8e0152"
            ],
            [
             0.1,
             "#c51b7d"
            ],
            [
             0.2,
             "#de77ae"
            ],
            [
             0.3,
             "#f1b6da"
            ],
            [
             0.4,
             "#fde0ef"
            ],
            [
             0.5,
             "#f7f7f7"
            ],
            [
             0.6,
             "#e6f5d0"
            ],
            [
             0.7,
             "#b8e186"
            ],
            [
             0.8,
             "#7fbc41"
            ],
            [
             0.9,
             "#4d9221"
            ],
            [
             1,
             "#276419"
            ]
           ],
           "sequential": [
            [
             0,
             "#0d0887"
            ],
            [
             0.1111111111111111,
             "#46039f"
            ],
            [
             0.2222222222222222,
             "#7201a8"
            ],
            [
             0.3333333333333333,
             "#9c179e"
            ],
            [
             0.4444444444444444,
             "#bd3786"
            ],
            [
             0.5555555555555556,
             "#d8576b"
            ],
            [
             0.6666666666666666,
             "#ed7953"
            ],
            [
             0.7777777777777778,
             "#fb9f3a"
            ],
            [
             0.8888888888888888,
             "#fdca26"
            ],
            [
             1,
             "#f0f921"
            ]
           ],
           "sequentialminus": [
            [
             0,
             "#0d0887"
            ],
            [
             0.1111111111111111,
             "#46039f"
            ],
            [
             0.2222222222222222,
             "#7201a8"
            ],
            [
             0.3333333333333333,
             "#9c179e"
            ],
            [
             0.4444444444444444,
             "#bd3786"
            ],
            [
             0.5555555555555556,
             "#d8576b"
            ],
            [
             0.6666666666666666,
             "#ed7953"
            ],
            [
             0.7777777777777778,
             "#fb9f3a"
            ],
            [
             0.8888888888888888,
             "#fdca26"
            ],
            [
             1,
             "#f0f921"
            ]
           ]
          },
          "colorway": [
           "#636efa",
           "#EF553B",
           "#00cc96",
           "#ab63fa",
           "#FFA15A",
           "#19d3f3",
           "#FF6692",
           "#B6E880",
           "#FF97FF",
           "#FECB52"
          ],
          "font": {
           "color": "#2a3f5f"
          },
          "geo": {
           "bgcolor": "white",
           "lakecolor": "white",
           "landcolor": "#E5ECF6",
           "showlakes": true,
           "showland": true,
           "subunitcolor": "white"
          },
          "hoverlabel": {
           "align": "left"
          },
          "hovermode": "closest",
          "mapbox": {
           "style": "light"
          },
          "paper_bgcolor": "white",
          "plot_bgcolor": "#E5ECF6",
          "polar": {
           "angularaxis": {
            "gridcolor": "white",
            "linecolor": "white",
            "ticks": ""
           },
           "bgcolor": "#E5ECF6",
           "radialaxis": {
            "gridcolor": "white",
            "linecolor": "white",
            "ticks": ""
           }
          },
          "scene": {
           "xaxis": {
            "backgroundcolor": "#E5ECF6",
            "gridcolor": "white",
            "gridwidth": 2,
            "linecolor": "white",
            "showbackground": true,
            "ticks": "",
            "zerolinecolor": "white"
           },
           "yaxis": {
            "backgroundcolor": "#E5ECF6",
            "gridcolor": "white",
            "gridwidth": 2,
            "linecolor": "white",
            "showbackground": true,
            "ticks": "",
            "zerolinecolor": "white"
           },
           "zaxis": {
            "backgroundcolor": "#E5ECF6",
            "gridcolor": "white",
            "gridwidth": 2,
            "linecolor": "white",
            "showbackground": true,
            "ticks": "",
            "zerolinecolor": "white"
           }
          },
          "shapedefaults": {
           "line": {
            "color": "#2a3f5f"
           }
          },
          "ternary": {
           "aaxis": {
            "gridcolor": "white",
            "linecolor": "white",
            "ticks": ""
           },
           "baxis": {
            "gridcolor": "white",
            "linecolor": "white",
            "ticks": ""
           },
           "bgcolor": "#E5ECF6",
           "caxis": {
            "gridcolor": "white",
            "linecolor": "white",
            "ticks": ""
           }
          },
          "title": {
           "x": 0.05
          },
          "xaxis": {
           "automargin": true,
           "gridcolor": "white",
           "linecolor": "white",
           "ticks": "",
           "title": {
            "standoff": 15
           },
           "zerolinecolor": "white",
           "zerolinewidth": 2
          },
          "yaxis": {
           "automargin": true,
           "gridcolor": "white",
           "linecolor": "white",
           "ticks": "",
           "title": {
            "standoff": 15
           },
           "zerolinecolor": "white",
           "zerolinewidth": 2
          }
         }
        },
        "title": {
         "text": "Backtest Prediction Accuracy for MSFT (Last 3 Months)"
        },
        "width": 800
       }
      },
      "image/png": "[encoded data removed]"
     },
     "metadata": {},
     "output_type": "display_data"
    },
    {
     "data": {
      "application/vnd.plotly.v1+json": {
       "config": {
        "plotlyServerURL": "https://plot.ly"
       },
       "data": [
        {
         "mode": "lines",
         "name": "Actual Price",
         "type": "scatter",
         "x": [
          "2025-03-17T00:00:00.000000000",
          "2025-03-18T00:00:00.000000000",
          "2025-03-19T00:00:00.000000000",
          "2025-03-20T00:00:00.000000000",
          "2025-03-21T00:00:00.000000000",
          "2025-03-24T00:00:00.000000000",
          "2025-03-25T00:00:00.000000000",
          "2025-03-26T00:00:00.000000000",
          "2025-03-27T00:00:00.000000000",
          "2025-03-28T00:00:00.000000000",
          "2025-03-31T00:00:00.000000000",
          "2025-04-01T00:00:00.000000000",
          "2025-04-02T00:00:00.000000000",
          "2025-04-03T00:00:00.000000000",
          "2025-04-04T00:00:00.000000000",
          "2025-04-07T00:00:00.000000000",
          "2025-04-08T00:00:00.000000000",
          "2025-04-09T00:00:00.000000000",
          "2025-04-10T00:00:00.000000000",
          "2025-04-11T00:00:00.000000000",
          "2025-04-14T00:00:00.000000000",
          "2025-04-15T00:00:00.000000000",
          "2025-04-16T00:00:00.000000000",
          "2025-04-17T00:00:00.000000000",
          "2025-04-21T00:00:00.000000000",
          "2025-04-22T00:00:00.000000000",
          "2025-04-23T00:00:00.000000000",
          "2025-04-24T00:00:00.000000000",
          "2025-04-25T00:00:00.000000000",
          "2025-04-28T00:00:00.000000000",
          "2025-04-29T00:00:00.000000000",
          "2025-04-30T00:00:00.000000000",
          "2025-05-01T00:00:00.000000000",
          "2025-05-02T00:00:00.000000000",
          "2025-05-05T00:00:00.000000000",
          "2025-05-06T00:00:00.000000000",
          "2025-05-07T00:00:00.000000000",
          "2025-05-08T00:00:00.000000000",
          "2025-05-09T00:00:00.000000000",
          "2025-05-12T00:00:00.000000000",
          "2025-05-13T00:00:00.000000000",
          "2025-05-14T00:00:00.000000000",
          "2025-05-15T00:00:00.000000000",
          "2025-05-16T00:00:00.000000000",
          "2025-05-19T00:00:00.000000000",
          "2025-05-20T00:00:00.000000000",
          "2025-05-21T00:00:00.000000000",
          "2025-05-22T00:00:00.000000000",
          "2025-05-23T00:00:00.000000000",
          "2025-05-27T00:00:00.000000000",
          "2025-05-28T00:00:00.000000000",
          "2025-05-29T00:00:00.000000000",
          "2025-05-30T00:00:00.000000000",
          "2025-06-02T00:00:00.000000000",
          "2025-06-03T00:00:00.000000000",
          "2025-06-04T00:00:00.000000000",
          "2025-06-05T00:00:00.000000000",
          "2025-06-06T00:00:00.000000000",
          "2025-06-09T00:00:00.000000000",
          "2025-06-10T00:00:00.000000000",
          "2025-06-11T00:00:00.000000000",
          "2025-06-12T00:00:00.000000000",
          "2025-06-13T00:00:00.000000000",
          "2025-06-16T00:00:00.000000000",
          "2025-06-17T00:00:00.000000000"
         ],
         "y": {
          "bdata": "AAAAwM0/eEABAABAE+13QP7//9+/MXhAAQAAABkieEADAABAsGh4QP3//z/BhXhA////X/mmeEADAAAgFlR4QAAAAADUXXhAAAAAgLGhd0ACAADgO2t3QP3//5/V13dAAAAAQAnXd0ABAAAA0kZ3QAEAAMDjcnZA/f//f0RTdkAAAACAkB52QAEAAABkXHhAAQAAQGvKd0ACAACgzzt4QAEAAOCWMXhA/v//314QeEAAAABA3S53QP///1+y8XZAAQAAAGRndkAAAACAXeJ2QAEAAGBDW3dA////v3EpeEADAACAHHJ4QP///18XZ3hAAwAAQBaVeEAAAABAkqh4QP7//1/tiXpA/v//v7cne0D+//9/7jV7QP///19BCHtAAgAAAOUIe0ADAACA31V7QAEAACDRXntA/f//3/wGfED9//9fEgV8QP///3/CQXxA////fxRSfED+///fUWR8QAIAAIDrrXxA/v//X7iifEACAADAHkl8QAIAAIDCbXxAAwAAQOEifED+//8/Cst8QP3//3/ClXxA/v//P+GqfEAAAACAwsV8QAEAACCF33xAAgAAIIXvfEABAACA6/18QAMAAEDhOn1A////fxRmfUAAAAAAAIx9QAEAAGC4bn1ABAAAgOuJfUD+//9/6+19QAIAACBcr31AAAAAgD3yfUD////fo+B9QA==",
          "dtype": "f8"
         }
        },
        {
         "mode": "lines",
         "name": "Predicted Price",
         "type": "scatter",
         "x": [
          "2025-03-17T00:00:00.000000000",
          "2025-03-18T00:00:00.000000000",
          "2025-03-19T00:00:00.000000000",
          "2025-03-20T00:00:00.000000000",
          "2025-03-21T00:00:00.000000000",
          "2025-03-24T00:00:00.000000000",
          "2025-03-25T00:00:00.000000000",
          "2025-03-26T00:00:00.000000000",
          "2025-03-27T00:00:00.000000000",
          "2025-03-28T00:00:00.000000000",
          "2025-03-31T00:00:00.000000000",
          "2025-04-01T00:00:00.000000000",
          "2025-04-02T00:00:00.000000000",
          "2025-04-03T00:00:00.000000000",
          "2025-04-04T00:00:00.000000000",
          "2025-04-07T00:00:00.000000000",
          "2025-04-08T00:00:00.000000000",
          "2025-04-09T00:00:00.000000000",
          "2025-04-10T00:00:00.000000000",
          "2025-04-11T00:00:00.000000000",
          "2025-04-14T00:00:00.000000000",
          "2025-04-15T00:00:00.000000000",
          "2025-04-16T00:00:00.000000000",
          "2025-04-17T00:00:00.000000000",
          "2025-04-21T00:00:00.000000000",
          "2025-04-22T00:00:00.000000000",
          "2025-04-23T00:00:00.000000000",
          "2025-04-24T00:00:00.000000000",
          "2025-04-25T00:00:00.000000000",
          "2025-04-28T00:00:00.000000000",
          "2025-04-29T00:00:00.000000000",
          "2025-04-30T00:00:00.000000000",
          "2025-05-01T00:00:00.000000000",
          "2025-05-02T00:00:00.000000000",
          "2025-05-05T00:00:00.000000000",
          "2025-05-06T00:00:00.000000000",
          "2025-05-07T00:00:00.000000000",
          "2025-05-08T00:00:00.000000000",
          "2025-05-09T00:00:00.000000000",
          "2025-05-12T00:00:00.000000000",
          "2025-05-13T00:00:00.000000000",
          "2025-05-14T00:00:00.000000000",
          "2025-05-15T00:00:00.000000000",
          "2025-05-16T00:00:00.000000000",
          "2025-05-19T00:00:00.000000000",
          "2025-05-20T00:00:00.000000000",
          "2025-05-21T00:00:00.000000000",
          "2025-05-22T00:00:00.000000000",
          "2025-05-23T00:00:00.000000000",
          "2025-05-27T00:00:00.000000000",
          "2025-05-28T00:00:00.000000000",
          "2025-05-29T00:00:00.000000000",
          "2025-05-30T00:00:00.000000000",
          "2025-06-02T00:00:00.000000000",
          "2025-06-03T00:00:00.000000000",
          "2025-06-04T00:00:00.000000000",
          "2025-06-05T00:00:00.000000000",
          "2025-06-06T00:00:00.000000000",
          "2025-06-09T00:00:00.000000000",
          "2025-06-10T00:00:00.000000000",
          "2025-06-11T00:00:00.000000000",
          "2025-06-12T00:00:00.000000000",
          "2025-06-13T00:00:00.000000000",
          "2025-06-16T00:00:00.000000000",
          "2025-06-17T00:00:00.000000000"
         ],
         "y": {
          "bdata": "////P5E9eEAAAADAzT94QAEAAEAT7XdA/v//378xeEABAAAAGSJ4QAMAAECwaHhA/f//P8GFeED///9f+aZ4QAMAACAWVHhAAAAAANRdeEAAAACAsaF3QAIAAOA7a3dA/f//n9XXd0AAAABACdd3QAEAAADSRndAAQAAwONydkD9//9/RFN2QAAAAICQHnZAAQAAAGRceEABAABAa8p3QAIAAKDPO3hAAQAA4JYxeED+///fXhB4QAAAAEDdLndA////X7LxdkABAAAAZGd2QAAAAIBd4nZAAQAAYENbd0D///+/cSl4QAMAAIAccnhA////XxdneEADAABAFpV4QAAAAECSqHhA/v//X+2JekD+//+/tyd7QP7//3/uNXtA////X0EIe0ACAAAA5Qh7QAMAAIDfVXtAAQAAINFee0D9///f/AZ8QP3//18SBXxA////f8JBfED///9/FFJ8QP7//99RZHxAAgAAgOutfED+//9fuKJ8QAIAAMAeSXxAAgAAgMJtfEADAABA4SJ8QP7//z8Ky3xA/f//f8KVfED+//8/4ap8QAAAAIDCxXxAAQAAIIXffEACAAAghe98QAEAAIDr/XxAAwAAQOE6fUD///9/FGZ9QAAAAAAAjH1AAQAAYLhufUAEAACA64l9QP7//3/r7X1AAgAAIFyvfUAAAACAPfJ9QA==",
          "dtype": "f8"
         }
        }
       ],
       "layout": {
        "template": {
         "data": {
          "bar": [
           {
            "error_x": {
             "color": "#2a3f5f"
            },
            "error_y": {
             "color": "#2a3f5f"
            },
            "marker": {
             "line": {
              "color": "white",
              "width": 0.5
             },
             "pattern": {
              "fillmode": "overlay",
              "size": 10,
              "solidity": 0.2
             }
            },
            "type": "bar"
           }
          ],
          "barpolar": [
           {
            "marker": {
             "line": {
              "color": "white",
              "width": 0.5
             },
             "pattern": {
              "fillmode": "overlay",
              "size": 10,
              "solidity": 0.2
             }
            },
            "type": "barpolar"
           }
          ],
          "carpet": [
           {
            "aaxis": {
             "endlinecolor": "#2a3f5f",
             "gridcolor": "#C8D4E3",
             "linecolor": "#C8D4E3",
             "minorgridcolor": "#C8D4E3",
             "startlinecolor": "#2a3f5f"
            },
            "baxis": {
             "endlinecolor": "#2a3f5f",
             "gridcolor": "#C8D4E3",
             "linecolor": "#C8D4E3",
             "minorgridcolor": "#C8D4E3",
             "startlinecolor": "#2a3f5f"
            },
            "type": "carpet"
           }
          ],
          "choropleth": [
           {
            "colorbar": {
             "outlinewidth": 0,
             "ticks": ""
            },
            "type": "choropleth"
           }
          ],
          "contour": [
           {
            "colorbar": {
             "outlinewidth": 0,
             "ticks": ""
            },
            "colorscale": [
             [
              0,
              "#0d0887"
             ],
             [
              0.1111111111111111,
              "#46039f"
             ],
             [
              0.2222222222222222,
              "#7201a8"
             ],
             [
              0.3333333333333333,
              "#9c179e"
             ],
             [
              0.4444444444444444,
              "#bd3786"
             ],
             [
              0.5555555555555556,
              "#d8576b"
             ],
             [
              0.6666666666666666,
              "#ed7953"
             ],
             [
              0.7777777777777778,
              "#fb9f3a"
             ],
             [
              0.8888888888888888,
              "#fdca26"
             ],
             [
              1,
              "#f0f921"
             ]
            ],
            "type": "contour"
           }
          ],
          "contourcarpet": [
           {
            "colorbar": {
             "outlinewidth": 0,
             "ticks": ""
            },
            "type": "contourcarpet"
           }
          ],
          "heatmap": [
           {
            "colorbar": {
             "outlinewidth": 0,
             "ticks": ""
            },
            "colorscale": [
             [
              0,
              "#0d0887"
             ],
             [
              0.1111111111111111,
              "#46039f"
             ],
             [
              0.2222222222222222,
              "#7201a8"
             ],
             [
              0.3333333333333333,
              "#9c179e"
             ],
             [
              0.4444444444444444,
              "#bd3786"
             ],
             [
              0.5555555555555556,
              "#d8576b"
             ],
             [
              0.6666666666666666,
              "#ed7953"
             ],
             [
              0.7777777777777778,
              "#fb9f3a"
             ],
             [
              0.8888888888888888,
              "#fdca26"
             ],
             [
              1,
              "#f0f921"
             ]
            ],
            "type": "heatmap"
           }
          ],
          "histogram": [
           {
            "marker": {
             "pattern": {
              "fillmode": "overlay",
              "size": 10,
              "solidity": 0.2
             }
            },
            "type": "histogram"
           }
          ],
          "histogram2d": [
           {
            "colorbar": {
             "outlinewidth": 0,
             "ticks": ""
            },
            "colorscale": [
             [
              0,
              "#0d0887"
             ],
             [
              0.1111111111111111,
              "#46039f"
             ],
             [
              0.2222222222222222,
              "#7201a8"
             ],
             [
              0.3333333333333333,
              "#9c179e"
             ],
             [
              0.4444444444444444,
              "#bd3786"
             ],
             [
              0.5555555555555556,
              "#d8576b"
             ],
             [
              0.6666666666666666,
              "#ed7953"
             ],
             [
              0.7777777777777778,
              "#fb9f3a"
             ],
             [
              0.8888888888888888,
              "#fdca26"
             ],
             [
              1,
              "#f0f921"
             ]
            ],
            "type": "histogram2d"
           }
          ],
          "histogram2dcontour": [
           {
            "colorbar": {
             "outlinewidth": 0,
             "ticks": ""
            },
            "colorscale": [
             [
              0,
              "#0d0887"
             ],
             [
              0.1111111111111111,
              "#46039f"
             ],
             [
              0.2222222222222222,
              "#7201a8"
             ],
             [
              0.3333333333333333,
              "#9c179e"
             ],
             [
              0.4444444444444444,
              "#bd3786"
             ],
             [
              0.5555555555555556,
              "#d8576b"
             ],
             [
              0.6666666666666666,
              "#ed7953"
             ],
             [
              0.7777777777777778,
              "#fb9f3a"
             ],
             [
              0.8888888888888888,
              "#fdca26"
             ],
             [
              1,
              "#f0f921"
             ]
            ],
            "type": "histogram2dcontour"
           }
          ],
          "mesh3d": [
           {
            "colorbar": {
             "outlinewidth": 0,
             "ticks": ""
            },
            "type": "mesh3d"
           }
          ],
          "parcoords": [
           {
            "line": {
             "colorbar": {
              "outlinewidth": 0,
              "ticks": ""
             }
            },
            "type": "parcoords"
           }
          ],
          "pie": [
           {
            "automargin": true,
            "type": "pie"
           }
          ],
          "scatter": [
           {
            "fillpattern": {
             "fillmode": "overlay",
             "size": 10,
             "solidity": 0.2
            },
            "type": "scatter"
           }
          ],
          "scatter3d": [
           {
            "line": {
             "colorbar": {
              "outlinewidth": 0,
              "ticks": ""
             }
            },
            "marker": {
             "colorbar": {
              "outlinewidth": 0,
              "ticks": ""
             }
            },
            "type": "scatter3d"
           }
          ],
          "scattercarpet": [
           {
            "marker": {
             "colorbar": {
              "outlinewidth": 0,
              "ticks": ""
             }
            },
            "type": "scattercarpet"
           }
          ],
          "scattergeo": [
           {
            "marker": {
             "colorbar": {
              "outlinewidth": 0,
              "ticks": ""
             }
            },
            "type": "scattergeo"
           }
          ],
          "scattergl": [
           {
            "marker": {
             "colorbar": {
              "outlinewidth": 0,
              "ticks": ""
             }
            },
            "type": "scattergl"
           }
          ],
          "scattermap": [
           {
            "marker": {
             "colorbar": {
              "outlinewidth": 0,
              "ticks": ""
             }
            },
            "type": "scattermap"
           }
          ],
          "scattermapbox": [
           {
            "marker": {
             "colorbar": {
              "outlinewidth": 0,
              "ticks": ""
             }
            },
            "type": "scattermapbox"
           }
          ],
          "scatterpolar": [
           {
            "marker": {
             "colorbar": {
              "outlinewidth": 0,
              "ticks": ""
             }
            },
            "type": "scatterpolar"
           }
          ],
          "scatterpolargl": [
           {
            "marker": {
             "colorbar": {
              "outlinewidth": 0,
              "ticks": ""
             }
            },
            "type": "scatterpolargl"
           }
          ],
          "scatterternary": [
           {
            "marker": {
             "colorbar": {
              "outlinewidth": 0,
              "ticks": ""
             }
            },
            "type": "scatterternary"
           }
          ],
          "surface": [
           {
            "colorbar": {
             "outlinewidth": 0,
             "ticks": ""
            },
            "colorscale": [
             [
              0,
              "#0d0887"
             ],
             [
              0.1111111111111111,
              "#46039f"
             ],
             [
              0.2222222222222222,
              "#7201a8"
             ],
             [
              0.3333333333333333,
              "#9c179e"
             ],
             [
              0.4444444444444444,
              "#bd3786"
             ],
             [
              0.5555555555555556,
              "#d8576b"
             ],
             [
              0.6666666666666666,
              "#ed7953"
             ],
             [
              0.7777777777777778,
              "#fb9f3a"
             ],
             [
              0.8888888888888888,
              "#fdca26"
             ],
             [
              1,
              "#f0f921"
             ]
            ],
            "type": "surface"
           }
          ],
          "table": [
           {
            "cells": {
             "fill": {
              "color": "#EBF0F8"
             },
             "line": {
              "color": "white"
             }
            },
            "header": {
             "fill": {
              "color": "#C8D4E3"
             },
             "line": {
              "color": "white"
             }
            },
            "type": "table"
           }
          ]
         },
         "layout": {
          "annotationdefaults": {
           "arrowcolor": "#2a3f5f",
           "arrowhead": 0,
           "arrowwidth": 1
          },
          "autotypenumbers": "strict",
          "coloraxis": {
           "colorbar": {
            "outlinewidth": 0,
            "ticks": ""
           }
          },
          "colorscale": {
           "diverging": [
            [
             0,
             "#8e0152"
            ],
            [
             0.1,
             "#c51b7d"
            ],
            [
             0.2,
             "#de77ae"
            ],
            [
             0.3,
             "#f1b6da"
            ],
            [
             0.4,
             "#fde0ef"
            ],
            [
             0.5,
             "#f7f7f7"
            ],
            [
             0.6,
             "#e6f5d0"
            ],
            [
             0.7,
             "#b8e186"
            ],
            [
             0.8,
             "#7fbc41"
            ],
            [
             0.9,
             "#4d9221"
            ],
            [
             1,
             "#276419"
            ]
           ],
           "sequential": [
            [
             0,
             "#0d0887"
            ],
            [
             0.1111111111111111,
             "#46039f"
            ],
            [
             0.2222222222222222,
             "#7201a8"
            ],
            [
             0.3333333333333333,
             "#9c179e"
            ],
            [
             0.4444444444444444,
             "#bd3786"
            ],
            [
             0.5555555555555556,
             "#d8576b"
            ],
            [
             0.6666666666666666,
             "#ed7953"
            ],
            [
             0.7777777777777778,
             "#fb9f3a"
            ],
            [
             0.8888888888888888,
             "#fdca26"
            ],
            [
             1,
             "#f0f921"
            ]
           ],
           "sequentialminus": [
            [
             0,
             "#0d0887"
            ],
            [
             0.1111111111111111,
             "#46039f"
            ],
            [
             0.2222222222222222,
             "#7201a8"
            ],
            [
             0.3333333333333333,
             "#9c179e"
            ],
            [
             0.4444444444444444,
             "#bd3786"
            ],
            [
             0.5555555555555556,
             "#d8576b"
            ],
            [
             0.6666666666666666,
             "#ed7953"
            ],
            [
             0.7777777777777778,
             "#fb9f3a"
            ],
            [
             0.8888888888888888,
             "#fdca26"
            ],
            [
             1,
             "#f0f921"
            ]
           ]
          },
          "colorway": [
           "#636efa",
           "#EF553B",
           "#00cc96",
           "#ab63fa",
           "#FFA15A",
           "#19d3f3",
           "#FF6692",
           "#B6E880",
           "#FF97FF",
           "#FECB52"
          ],
          "font": {
           "color": "#2a3f5f"
          },
          "geo": {
           "bgcolor": "white",
           "lakecolor": "white",
           "landcolor": "white",
           "showlakes": true,
           "showland": true,
           "subunitcolor": "#C8D4E3"
          },
          "hoverlabel": {
           "align": "left"
          },
          "hovermode": "closest",
          "mapbox": {
           "style": "light"
          },
          "paper_bgcolor": "white",
          "plot_bgcolor": "white",
          "polar": {
           "angularaxis": {
            "gridcolor": "#EBF0F8",
            "linecolor": "#EBF0F8",
            "ticks": ""
           },
           "bgcolor": "white",
           "radialaxis": {
            "gridcolor": "#EBF0F8",
            "linecolor": "#EBF0F8",
            "ticks": ""
           }
          },
          "scene": {
           "xaxis": {
            "backgroundcolor": "white",
            "gridcolor": "#DFE8F3",
            "gridwidth": 2,
            "linecolor": "#EBF0F8",
            "showbackground": true,
            "ticks": "",
            "zerolinecolor": "#EBF0F8"
           },
           "yaxis": {
            "backgroundcolor": "white",
            "gridcolor": "#DFE8F3",
            "gridwidth": 2,
            "linecolor": "#EBF0F8",
            "showbackground": true,
            "ticks": "",
            "zerolinecolor": "#EBF0F8"
           },
           "zaxis": {
            "backgroundcolor": "white",
            "gridcolor": "#DFE8F3",
            "gridwidth": 2,
            "linecolor": "#EBF0F8",
            "showbackground": true,
            "ticks": "",
            "zerolinecolor": "#EBF0F8"
           }
          },
          "shapedefaults": {
           "line": {
            "color": "#2a3f5f"
           }
          },
          "ternary": {
           "aaxis": {
            "gridcolor": "#DFE8F3",
            "linecolor": "#A2B1C6",
            "ticks": ""
           },
           "baxis": {
            "gridcolor": "#DFE8F3",
            "linecolor": "#A2B1C6",
            "ticks": ""
           },
           "bgcolor": "white",
           "caxis": {
            "gridcolor": "#DFE8F3",
            "linecolor": "#A2B1C6",
            "ticks": ""
           }
          },
          "title": {
           "x": 0.05
          },
          "xaxis": {
           "automargin": true,
           "gridcolor": "#EBF0F8",
           "linecolor": "#EBF0F8",
           "ticks": "",
           "title": {
            "standoff": 15
           },
           "zerolinecolor": "#EBF0F8",
           "zerolinewidth": 2
          },
          "yaxis": {
           "automargin": true,
           "gridcolor": "#EBF0F8",
           "linecolor": "#EBF0F8",
           "ticks": "",
           "title": {
            "standoff": 15
           },
           "zerolinecolor": "#EBF0F8",
           "zerolinewidth": 2
          }
         }
        },
        "title": {
         "text": "MSFT Backtest: Actual vs. Predicted Prices (Last 3 Months)"
        },
        "xaxis": {
         "title": {
          "text": "Date"
         }
        },
        "yaxis": {
         "title": {
          "text": "Price"
         }
        }
       }
      },
      "image/png": "[encoded data removed]"
     },
     "metadata": {},
     "output_type": "display_data"
    }
   ],
   "source": [
    "import pandas as pd\n",
    "import numpy as np\n",
    "import plotly.graph_objects as go\n",
    "import yfinance as yf\n",
    "from statsmodels.tsa.arima.model import ARIMA\n",
    "import warnings\n",
    "import traceback\n",
    "from pmdarima import auto_arima\n",
    "from scipy.stats import norm, t, skewnorm, kurtosis\n",
    "from scipy.stats import skew\n",
    "import random\n",
    "from tqdm import tqdm\n",
    "\n",
    "warnings.filterwarnings(\"ignore\")\n",
    "\n",
    "def fetch_stock_data(ticker_symbol, start_date, end_date):\n",
    "    try:\n",
    "        data = yf.download(ticker_symbol, start=start_date, end=end_date)\n",
    "        if data.empty:\n",
    "            return None\n",
    "        if 'Adj Close' not in data.columns:\n",
    "            if 'Close' in data.columns:\n",
    "                data['Adj Close'] = data['Close']\n",
    "            else:\n",
    "                return None\n",
    "        return data\n",
    "    except Exception as e:\n",
    "        return None\n",
    "\n",
    "def predictive_analysis(data, forecast_horizon=90):\n",
    "    if data['Adj Close'].empty or len(data) < 100:\n",
    "        return pd.Series(), pd.DataFrame(), {}\n",
    "    try:\n",
    "        arima_data = np.log(data['Adj Close'].dropna())\n",
    "        model = auto_arima(\n",
    "            arima_data,\n",
    "            start_p=1, start_q=1,\n",
    "            max_p=5, max_q=5,\n",
    "            d=None,\n",
    "            seasonal=False,\n",
    "            trace=False,\n",
    "            error_action='ignore',\n",
    "            suppress_warnings=True,\n",
    "            stepwise=True\n",
    "        )\n",
    "        order = model.order\n",
    "        \n",
    "        train_size = int(len(arima_data) * 0.8)\n",
    "        train, test = arima_data[:train_size], arima_data[train_size:]\n",
    "        \n",
    "        history = [x for x in train]\n",
    "        predictions = []\n",
    "        test_dates = test.index\n",
    "        \n",
    "        for t_idx in range(len(test)):\n",
    "            current_model = ARIMA(history, order=order)\n",
    "            current_model_fit = current_model.fit()\n",
    "            forecast_result = current_model_fit.get_forecast(steps=1)\n",
    "            \n",
    "            if hasattr(forecast_result.predicted_mean, 'iloc'):\n",
    "                yhat = forecast_result.predicted_mean.iloc[0]\n",
    "            else:\n",
    "                yhat = forecast_result.predicted_mean[0]\n",
    "            \n",
    "            predictions.append(yhat)\n",
    "            history.append(test.iloc[t_idx])\n",
    "            \n",
    "        test_values = np.exp(test.values)\n",
    "        predictions = np.exp(np.array(predictions))\n",
    "        \n",
    "        mae = np.mean(np.abs(predictions - test_values))\n",
    "        mse = np.mean((predictions - test_values)**2)\n",
    "        rmse = np.sqrt(mse)\n",
    "        mape = np.mean(np.abs((predictions - test_values) / test_values)) * 100\n",
    "        \n",
    "        backtest_metrics = {\n",
    "            'MAE': mae,\n",
    "            'MSE': mse,\n",
    "            'RMSE': rmse,\n",
    "            'MAPE': mape,\n",
    "            'Test_Start_Date': test.index[0],\n",
    "            'Test_End_Date': test.index[-1],\n",
    "            'Predictions': predictions,\n",
    "            'Test_Values': test_values,\n",
    "            'Test_Dates': test_dates\n",
    "        }\n",
    "\n",
    "        final_model = ARIMA(arima_data, order=order)\n",
    "        final_model_fit = final_model.fit()\n",
    "        forecast_results = final_model_fit.get_forecast(steps=forecast_horizon)\n",
    "        \n",
    "        if hasattr(forecast_results.predicted_mean, 'iloc'):\n",
    "            forecast_prices = np.exp(forecast_results.predicted_mean)\n",
    "            confidence_interval = np.exp(forecast_results.conf_int())\n",
    "        else:\n",
    "            forecast_prices = pd.Series(np.exp(forecast_results.predicted_mean))\n",
    "            confidence_interval = pd.DataFrame(np.exp(forecast_results.conf_int()))\n",
    "        \n",
    "        last_date = data.index[-1]\n",
    "        forecast_index = pd.date_range(start=last_date + pd.Timedelta(days=1), periods=forecast_horizon, freq='B')\n",
    "        forecast_prices.index = forecast_index\n",
    "        confidence_interval.index = forecast_index\n",
    "\n",
    "        return forecast_prices, confidence_interval, backtest_metrics\n",
    "        \n",
    "    except Exception as e:\n",
    "        return pd.Series(), pd.DataFrame(), {}\n",
    "\n",
    "def generate_backtest_probability_table(backtest_metrics, ticker_symbol, price_tolerance_percentage=1.0):\n",
    "    if not backtest_metrics or 'Predictions' not in backtest_metrics or 'Test_Values' not in backtest_metrics:\n",
    "        return\n",
    "\n",
    "    predictions = backtest_metrics['Predictions']\n",
    "    actual_values = backtest_metrics['Test_Values']\n",
    "    test_dates = backtest_metrics['Test_Dates']\n",
    "\n",
    "    if len(predictions) == 0 or len(actual_values) == 0:\n",
    "        return\n",
    "\n",
    "    num_days_for_analysis = min(len(predictions), 65)\n",
    "    \n",
    "    recent_predictions = predictions[-num_days_for_analysis:]\n",
    "    recent_actual_values = actual_values[-num_days_for_analysis:]\n",
    "    recent_test_dates = test_dates[-num_days_for_analysis:]\n",
    "\n",
    "    if len(recent_predictions) == 0:\n",
    "        return\n",
    "\n",
    "    percentage_diff = ((recent_predictions - recent_actual_values) / recent_actual_values) * 100\n",
    "    is_accurate = np.abs(percentage_diff) <= price_tolerance_percentage\n",
    "\n",
    "    within_tolerance = np.sum(is_accurate)\n",
    "    overestimated = np.sum(percentage_diff > price_tolerance_percentage)\n",
    "    underestimated = np.sum(percentage_diff < -price_tolerance_percentage)\n",
    "    total_predictions = len(recent_predictions)\n",
    "\n",
    "    prob_within_tolerance = (within_tolerance / total_predictions) * 100\n",
    "    prob_overestimated = (overestimated / total_predictions) * 100\n",
    "    prob_underestimated = (underestimated / total_predictions) * 100\n",
    "\n",
    "    probability_data = {\n",
    "        \"Category\": [\n",
    "            f\"Within +/- {price_tolerance_percentage:.1f}% Tolerance\",\n",
    "            f\"Overestimated by > {price_tolerance_percentage:.1f}%\",\n",
    "            f\"Underestimated by > {price_tolerance_percentage:.1f}%\"\n",
    "        ],\n",
    "        \"Count\": [within_tolerance, overestimated, underestimated],\n",
    "        \"Probability (%)\": [\n",
    "            f\"{prob_within_tolerance:.2f}%\",\n",
    "            f\"{prob_overestimated:.2f}%\",\n",
    "            f\"{prob_underestimated:.2f}%\"\n",
    "        ]\n",
    "    }\n",
    "\n",
    "    prob_df = pd.DataFrame(probability_data)\n",
    "\n",
    "    fig_table = go.Figure(data=[go.Table(\n",
    "        header=dict(values=list(prob_df.columns),\n",
    "                    fill_color='paleturquoise',\n",
    "                    align='left'),\n",
    "        cells=dict(values=[prob_df[\"Category\"], prob_df[\"Count\"], prob_df[\"Probability (%)\"]],\n",
    "                   fill_color='lavender',\n",
    "                   align='left'))\n",
    "    ])\n",
    "    fig_table.update_layout(title_text=f'Backtest Prediction Accuracy for {ticker_symbol} (Last 3 Months)',\n",
    "                            height=400,\n",
    "                            width=800)\n",
    "    fig_table.show()\n",
    "\n",
    "    fig_detail = go.Figure()\n",
    "    fig_detail.add_trace(go.Scatter(x=recent_test_dates, y=recent_actual_values, mode='lines', name='Actual Price'))\n",
    "    fig_detail.add_trace(go.Scatter(x=recent_test_dates, y=recent_predictions, mode='lines', name='Predicted Price'))\n",
    "    fig_detail.update_layout(\n",
    "        title=f'{ticker_symbol} Backtest: Actual vs. Predicted Prices (Last 3 Months)',\n",
    "        xaxis_title='Date',\n",
    "        yaxis_title='Price',\n",
    "        template=\"plotly_white\"\n",
    "    )\n",
    "    fig_detail.show()\n",
    "\n",
    "def get_backtest_metrics_for_probability_table(ticker_symbol, start_date, end_date):\n",
    "    data = fetch_stock_data(ticker_symbol, start_date, end_date)\n",
    "    if data is None:\n",
    "        return None, None\n",
    "    _, _, backtest_metrics = predictive_analysis(data.copy(), forecast_horizon=90)\n",
    "    return backtest_metrics, ticker_symbol\n",
    "\n",
    "stock_to_analyze = \"MSFT\"\n",
    "end_date_for_bt = pd.to_datetime('today').strftime('%Y-%m-%d')\n",
    "start_date_for_bt = (pd.to_datetime('today') - pd.DateOffset(years=5)).strftime('%Y-%m-%d')\n",
    "\n",
    "backtest_metrics_for_table, ticker_for_table = get_backtest_metrics_for_probability_table(stock_to_analyze, start_date_for_bt, end_date_for_bt)\n",
    "\n",
    "if backtest_metrics_for_table:\n",
    "    generate_backtest_probability_table(backtest_metrics_for_table, ticker_for_table, price_tolerance_percentage=1.0)"
   ]
  },
  {
   "cell_type": "code",
   "execution_count": null,
   "id": "f4917271-f279-414d-b743-fe72862e88e4",
   "metadata": {},
   "outputs": [],
   "source": []
  },
  {
   "cell_type": "code",
   "execution_count": null,
   "id": "8693cc9a-a0c7-4271-a9a8-38ca7df981df",
   "metadata": {},
   "outputs": [],
   "source": []
  },
  {
   "cell_type": "code",
   "execution_count": null,
   "id": "96885d86-e9d5-4052-a89c-0e7774455289",
   "metadata": {},
   "outputs": [],
   "source": []
  },
  {
   "cell_type": "code",
   "execution_count": null,
   "id": "ba8a66ae-ffe2-4338-bfb8-116f33f6c7e5",
   "metadata": {},
   "outputs": [],
   "source": []
  },
  {
   "cell_type": "code",
   "execution_count": null,
   "id": "4e355f4d-c554-42cf-b137-6de86695fceb",
   "metadata": {},
   "outputs": [],
   "source": []
  },
  {
   "cell_type": "code",
   "execution_count": null,
   "id": "03f78835-c9f9-438c-b80d-dc9712eb2ab2",
   "metadata": {},
   "outputs": [],
   "source": []
  },
  {
   "cell_type": "code",
   "execution_count": null,
   "id": "2aa23379-0361-4407-8477-7f8d70b3479b",
   "metadata": {},
   "outputs": [],
   "source": []
  },
  {
   "cell_type": "code",
   "execution_count": null,
   "id": "3f8a4f97-a456-433b-97e9-de490669f03a",
   "metadata": {},
   "outputs": [],
   "source": []
  },
  {
   "cell_type": "code",
   "execution_count": null,
   "id": "225eef42-54cf-4dc3-b804-580344073ca5",
   "metadata": {},
   "outputs": [],
   "source": []
  },
  {
   "cell_type": "code",
   "execution_count": null,
   "id": "ed880ff2-a301-4d02-a0f9-af7bdec2f678",
   "metadata": {},
   "outputs": [],
   "source": []
  },
  {
   "cell_type": "code",
   "execution_count": null,
   "id": "6384ba60-3d11-4cfe-ae2a-47176a2dbdad",
   "metadata": {},
   "outputs": [],
   "source": []
  },
  {
   "cell_type": "code",
   "execution_count": null,
   "id": "40eb1fc6-6845-45a1-b8ad-e14a636f6746",
   "metadata": {},
   "outputs": [],
   "source": []
  },
  {
   "cell_type": "code",
   "execution_count": null,
   "id": "fb9bf680-e616-4b16-941b-91ab47b1e928",
   "metadata": {},
   "outputs": [],
   "source": []
  },
  {
   "cell_type": "code",
   "execution_count": null,
   "id": "e73d56ed-9d9b-4831-a486-ab80c097c4ad",
   "metadata": {},
   "outputs": [],
   "source": []
  },
  {
   "cell_type": "code",
   "execution_count": null,
   "id": "d1e62ab2-0c45-4e41-91a7-d11c029404a2",
   "metadata": {},
   "outputs": [],
   "source": []
  },
  {
   "cell_type": "code",
   "execution_count": null,
   "id": "ca375302-158d-4abf-bedb-a4840f252750",
   "metadata": {},
   "outputs": [],
   "source": []
  },
  {
   "cell_type": "code",
   "execution_count": null,
   "id": "3c47aa43-3bc5-4b5e-8712-4b5098a67466",
   "metadata": {},
   "outputs": [],
   "source": []
  },
  {
   "cell_type": "code",
   "execution_count": null,
   "id": "64d03591-4c4e-47bb-af98-8c09a6c3f1cb",
   "metadata": {},
   "outputs": [],
   "source": []
  },
  {
   "cell_type": "code",
   "execution_count": null,
   "id": "66132e94-a40f-4a42-98b1-d9857196bfbd",
   "metadata": {},
   "outputs": [],
   "source": []
  },
  {
   "cell_type": "code",
   "execution_count": null,
   "id": "8cd55385-dae5-4f83-bb23-b61ad2fad5f3",
   "metadata": {},
   "outputs": [],
   "source": []
  },
  {
   "cell_type": "code",
   "execution_count": null,
   "id": "df98785d-607e-43bd-8334-feb8f62faea8",
   "metadata": {},
   "outputs": [],
   "source": []
  },
  {
   "cell_type": "code",
   "execution_count": null,
   "id": "0f9ab854-70dd-4c2b-870a-a20c69313cec",
   "metadata": {},
   "outputs": [],
   "source": []
  },
  {
   "cell_type": "code",
   "execution_count": null,
   "id": "044b02e1-0f5c-4a9a-b50e-08f01c0621e4",
   "metadata": {},
   "outputs": [],
   "source": []
  },
  {
   "cell_type": "code",
   "execution_count": null,
   "id": "f9fc7d9e-8987-4575-b2d4-e9fb2db3b998",
   "metadata": {},
   "outputs": [],
   "source": []
  },
  {
   "cell_type": "code",
   "execution_count": null,
   "id": "dbcadef7-3e7a-4a7b-a425-ee454f8b6887",
   "metadata": {},
   "outputs": [],
   "source": []
  },
  {
   "cell_type": "code",
   "execution_count": null,
   "id": "f0ed9703-aa00-4edc-921c-240f2a10d088",
   "metadata": {},
   "outputs": [],
   "source": []
  },
  {
   "cell_type": "code",
   "execution_count": null,
   "id": "ad995ca9-16c7-4cf6-add1-5b0de21ee132",
   "metadata": {},
   "outputs": [],
   "source": []
  },
  {
   "cell_type": "code",
   "execution_count": null,
   "id": "cb98c385-751d-458f-9bb7-e5dbf182254a",
   "metadata": {},
   "outputs": [],
   "source": []
  },
  {
   "cell_type": "code",
   "execution_count": null,
   "id": "fc705b8e-da3d-4715-aec5-e588a2d5a79c",
   "metadata": {},
   "outputs": [],
   "source": []
  },
  {
   "cell_type": "code",
   "execution_count": null,
   "id": "d4b5ede6-cc65-426a-a7ac-533b7339000c",
   "metadata": {},
   "outputs": [],
   "source": []
  }
 ],
 "metadata": {
  "kernelspec": {
   "display_name": "Python 3 (ipykernel)",
   "language": "python",
   "name": "python3"
  },
  "language_info": {
   "codemirror_mode": {
    "name": "ipython",
    "version": 3
   },
   "file_extension": ".py",
   "mimetype": "text/x-python",
   "name": "python",
   "nbconvert_exporter": "python",
   "pygments_lexer": "ipython3",
   "version": "3.12.4"
  }
 },
 "nbformat": 4,
 "nbformat_minor": 5
}
